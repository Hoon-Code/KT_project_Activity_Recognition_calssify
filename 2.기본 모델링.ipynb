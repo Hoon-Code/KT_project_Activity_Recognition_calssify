{
 "cells": [
  {
   "cell_type": "markdown",
   "metadata": {
    "id": "NbI_RoQ9AP5r"
   },
   "source": [
    "#**스마트폰 센서 데이터 기반 모션 분류**\n",
    "# 단계2 : 기본 모델링\n"
   ]
  },
  {
   "cell_type": "markdown",
   "metadata": {
    "id": "D67PlTu4JGAY"
   },
   "source": [
    "## 0.미션"
   ]
  },
  {
   "cell_type": "markdown",
   "metadata": {
    "id": "wc1FlP4E09oQ"
   },
   "source": [
    "* 데이터 전처리\n",
    "    * 가변수화, 데이터 분할, NaN 확인 및 조치, 스케일링 등 필요한 전처리 수행\n",
    "* 다양한 알고리즘으로 분류 모델 생성\n",
    "    * 최소 4개 이상의 알고리즘을 적용하여 모델링 수행 \n",
    "    * 성능 비교\n",
    "    * 각 모델의 성능을 저장하는 별도 데이터 프레임을 만들고 비교\n",
    "* 옵션 : 다음 사항은 선택사항입니다. 시간이 허용하는 범위 내에서 수행하세요.\n",
    "    * 상위 N개 변수를 선정하여 모델링 및 성능 비교\n",
    "        * 모델링에 항상 모든 변수가 필요한 것은 아닙니다.\n",
    "        * 변수 중요도 상위 N개를 선정하여 모델링하고 타 모델과 성능을 비교하세요.\n",
    "        * 상위 N개를 선택하는 방법은, 변수를 하나씩 늘려가며 모델링 및 성능 검증을 수행하여 적절한 지점을 찾는 것입니다."
   ]
  },
  {
   "cell_type": "markdown",
   "metadata": {
    "id": "LfH_oDcXSffu"
   },
   "source": [
    "## 1.환경설정"
   ]
  },
  {
   "cell_type": "markdown",
   "metadata": {
    "id": "gynBcDrZSffu"
   },
   "source": [
    "### (1) 라이브러리 불러오기"
   ]
  },
  {
   "cell_type": "markdown",
   "metadata": {
    "id": "I_rCs78QJZmI"
   },
   "source": [
    "* 세부 요구사항\n",
    "    - 기본적으로 필요한 라이브러리를 import 하도록 코드가 작성되어 있습니다.\n",
    "    - 필요하다고 판단되는 라이브러리를 추가하세요."
   ]
  },
  {
   "cell_type": "code",
   "execution_count": 97,
   "metadata": {},
   "outputs": [],
   "source": [
    "#pip install tensorflow"
   ]
  },
  {
   "cell_type": "code",
   "execution_count": 98,
   "metadata": {},
   "outputs": [],
   "source": [
    "#pip install keras"
   ]
  },
  {
   "cell_type": "code",
   "execution_count": 2,
   "metadata": {
    "id": "o60rJAqKSffv"
   },
   "outputs": [],
   "source": [
    "import pandas as pd\n",
    "import numpy as np\n",
    "import matplotlib.pyplot as plt\n",
    "import seaborn as sns\n",
    "\n",
    "# 필요하다고 판단되는 라이브러리를 추가하세요.\n",
    "from sklearn.metrics import *\n",
    "from sklearn.neighbors import KNeighborsClassifier\n",
    "from sklearn.linear_model import LogisticRegression\n",
    "from sklearn.tree import DecisionTreeClassifier\n",
    "from lightgbm import LGBMClassifier\n",
    "from sklearn.model_selection import train_test_split\n",
    "from sklearn.preprocessing import MinMaxScaler\n",
    "from sklearn.ensemble import RandomForestClassifier\n",
    "\n",
    "import tensorflow as tf\n",
    "from keras.models import Sequential\n",
    "from keras.layers import Dense\n",
    "from keras.backend import clear_session\n",
    "from keras.optimizers import Adam"
   ]
  },
  {
   "cell_type": "markdown",
   "metadata": {
    "id": "FOUr8fa2Sffw"
   },
   "source": [
    "* 함수 생성"
   ]
  },
  {
   "cell_type": "code",
   "execution_count": null,
   "metadata": {
    "id": "HH5VyFAtSffw"
   },
   "outputs": [],
   "source": [
    "# 변수의 특성 중요도 계산하기\n",
    "def plot_feature_importance(importance, names, result_only = False, topn = 'all'):\n",
    "    feature_importance = np.array(importance)\n",
    "    feature_name = np.array(names)\n",
    "\n",
    "    data={'feature_name':feature_name,'feature_importance':feature_importance}\n",
    "    fi_temp = pd.DataFrame(data)\n",
    "\n",
    "    #변수의 특성 중요도 순으로 정렬하기\n",
    "    fi_temp.sort_values(by=['feature_importance'], ascending=False,inplace=True)\n",
    "    fi_temp.reset_index(drop=True, inplace = True)\n",
    "\n",
    "    if topn == 'all' :\n",
    "        fi_df = fi_temp.copy()\n",
    "    else :\n",
    "        fi_df = fi_temp.iloc[:topn]\n",
    "\n",
    "    #변수의 특성 중요도 그래프로 그리기\n",
    "    if result_only == False :\n",
    "        plt.figure(figsize=(10,20))\n",
    "        sns.barplot(x='feature_importance', y='feature_name', data = fi_df)\n",
    "\n",
    "        plt.xlabel('importance')\n",
    "        plt.ylabel('feature name')\n",
    "        plt.grid()\n",
    "\n",
    "    return fi_df"
   ]
  },
  {
   "cell_type": "code",
   "execution_count": 3,
   "metadata": {},
   "outputs": [],
   "source": [
    "def feature_importances(importance,feature_name):\n",
    "    df=pd.DataFrame()\n",
    "    df['importance'] = importance\n",
    "    df['feature_name'] = feature_name\n",
    "    df.sort_values('importance',ascending=False,inplace=True)\n",
    "    df.reset_index(drop=True,inplace=True)\n",
    "    sns.barplot(x='importance',y='feature_name',data=df.head())\n",
    "    plt.xlabel('importance')\n",
    "    plt.ylabel('feature_name')\n",
    "    plt.show()\n",
    "    \n",
    "    return df"
   ]
  },
  {
   "cell_type": "markdown",
   "metadata": {
    "id": "dvJRtBwfSffw"
   },
   "source": [
    "### (2) 데이터 불러오기"
   ]
  },
  {
   "cell_type": "markdown",
   "metadata": {
    "id": "9OkifR5rnr2D"
   },
   "source": [
    "* 주어진 데이터셋\n",
    "    * data01_train.csv : 학습 및 검증용\n",
    "* 세부 요구사항\n",
    "    - 전체 데이터 'data01_train.csv' 를 불러와 'data' 이름으로 저장합니다.\n",
    "        - data에서 변수 subject는 삭제합니다.\n",
    "    - 데이터프레임에 대한 기본 정보를 확인합니다.( .head(), .shape 등)"
   ]
  },
  {
   "cell_type": "markdown",
   "metadata": {
    "id": "3GARafZCJBSo"
   },
   "source": [
    "#### 1) 데이터 로딩"
   ]
  },
  {
   "cell_type": "code",
   "execution_count": 141,
   "metadata": {
    "id": "8d43OHYshK_M"
   },
   "outputs": [],
   "source": [
    "data = pd.read_csv('data01_train.csv')"
   ]
  },
  {
   "cell_type": "code",
   "execution_count": 142,
   "metadata": {
    "id": "XaXXFw00hK8c"
   },
   "outputs": [],
   "source": [
    "data.drop('subject',axis=1,inplace=True)"
   ]
  },
  {
   "cell_type": "markdown",
   "metadata": {
    "id": "X0BEoVuRSffx"
   },
   "source": [
    "#### 2) 기본 정보 조회"
   ]
  },
  {
   "cell_type": "code",
   "execution_count": 143,
   "metadata": {
    "id": "kR-zBmb5hP8-"
   },
   "outputs": [
    {
     "data": {
      "text/plain": [
       "(5881, 562)"
      ]
     },
     "execution_count": 143,
     "metadata": {},
     "output_type": "execute_result"
    }
   ],
   "source": [
    "data.shape"
   ]
  },
  {
   "cell_type": "code",
   "execution_count": 144,
   "metadata": {
    "id": "OnEBbdiIhP2g"
   },
   "outputs": [
    {
     "data": {
      "text/html": [
       "<div>\n",
       "<style scoped>\n",
       "    .dataframe tbody tr th:only-of-type {\n",
       "        vertical-align: middle;\n",
       "    }\n",
       "\n",
       "    .dataframe tbody tr th {\n",
       "        vertical-align: top;\n",
       "    }\n",
       "\n",
       "    .dataframe thead th {\n",
       "        text-align: right;\n",
       "    }\n",
       "</style>\n",
       "<table border=\"1\" class=\"dataframe\">\n",
       "  <thead>\n",
       "    <tr style=\"text-align: right;\">\n",
       "      <th></th>\n",
       "      <th>tBodyAcc-mean()-X</th>\n",
       "      <th>tBodyAcc-mean()-Y</th>\n",
       "      <th>tBodyAcc-mean()-Z</th>\n",
       "      <th>tBodyAcc-std()-X</th>\n",
       "      <th>tBodyAcc-std()-Y</th>\n",
       "      <th>tBodyAcc-std()-Z</th>\n",
       "      <th>tBodyAcc-mad()-X</th>\n",
       "      <th>tBodyAcc-mad()-Y</th>\n",
       "      <th>tBodyAcc-mad()-Z</th>\n",
       "      <th>tBodyAcc-max()-X</th>\n",
       "      <th>...</th>\n",
       "      <th>fBodyBodyGyroJerkMag-skewness()</th>\n",
       "      <th>fBodyBodyGyroJerkMag-kurtosis()</th>\n",
       "      <th>angle(tBodyAccMean,gravity)</th>\n",
       "      <th>angle(tBodyAccJerkMean),gravityMean)</th>\n",
       "      <th>angle(tBodyGyroMean,gravityMean)</th>\n",
       "      <th>angle(tBodyGyroJerkMean,gravityMean)</th>\n",
       "      <th>angle(X,gravityMean)</th>\n",
       "      <th>angle(Y,gravityMean)</th>\n",
       "      <th>angle(Z,gravityMean)</th>\n",
       "      <th>Activity</th>\n",
       "    </tr>\n",
       "  </thead>\n",
       "  <tbody>\n",
       "    <tr>\n",
       "      <th>0</th>\n",
       "      <td>0.288508</td>\n",
       "      <td>-0.009196</td>\n",
       "      <td>-0.103362</td>\n",
       "      <td>-0.988986</td>\n",
       "      <td>-0.962797</td>\n",
       "      <td>-0.967422</td>\n",
       "      <td>-0.989000</td>\n",
       "      <td>-0.962596</td>\n",
       "      <td>-0.965650</td>\n",
       "      <td>-0.929747</td>\n",
       "      <td>...</td>\n",
       "      <td>-0.487737</td>\n",
       "      <td>-0.816696</td>\n",
       "      <td>-0.042494</td>\n",
       "      <td>-0.044218</td>\n",
       "      <td>0.307873</td>\n",
       "      <td>0.072790</td>\n",
       "      <td>-0.601120</td>\n",
       "      <td>0.331298</td>\n",
       "      <td>0.165163</td>\n",
       "      <td>STANDING</td>\n",
       "    </tr>\n",
       "    <tr>\n",
       "      <th>1</th>\n",
       "      <td>0.265757</td>\n",
       "      <td>-0.016576</td>\n",
       "      <td>-0.098163</td>\n",
       "      <td>-0.989551</td>\n",
       "      <td>-0.994636</td>\n",
       "      <td>-0.987435</td>\n",
       "      <td>-0.990189</td>\n",
       "      <td>-0.993870</td>\n",
       "      <td>-0.987558</td>\n",
       "      <td>-0.937337</td>\n",
       "      <td>...</td>\n",
       "      <td>-0.237820</td>\n",
       "      <td>-0.693515</td>\n",
       "      <td>-0.062899</td>\n",
       "      <td>0.388459</td>\n",
       "      <td>-0.765014</td>\n",
       "      <td>0.771524</td>\n",
       "      <td>0.345205</td>\n",
       "      <td>-0.769186</td>\n",
       "      <td>-0.147944</td>\n",
       "      <td>LAYING</td>\n",
       "    </tr>\n",
       "    <tr>\n",
       "      <th>2</th>\n",
       "      <td>0.278709</td>\n",
       "      <td>-0.014511</td>\n",
       "      <td>-0.108717</td>\n",
       "      <td>-0.997720</td>\n",
       "      <td>-0.981088</td>\n",
       "      <td>-0.994008</td>\n",
       "      <td>-0.997934</td>\n",
       "      <td>-0.982187</td>\n",
       "      <td>-0.995017</td>\n",
       "      <td>-0.942584</td>\n",
       "      <td>...</td>\n",
       "      <td>-0.535287</td>\n",
       "      <td>-0.829311</td>\n",
       "      <td>0.000265</td>\n",
       "      <td>-0.525022</td>\n",
       "      <td>-0.891875</td>\n",
       "      <td>0.021528</td>\n",
       "      <td>-0.833564</td>\n",
       "      <td>0.202434</td>\n",
       "      <td>-0.032755</td>\n",
       "      <td>STANDING</td>\n",
       "    </tr>\n",
       "    <tr>\n",
       "      <th>3</th>\n",
       "      <td>0.289795</td>\n",
       "      <td>-0.035536</td>\n",
       "      <td>-0.150354</td>\n",
       "      <td>-0.231727</td>\n",
       "      <td>-0.006412</td>\n",
       "      <td>-0.338117</td>\n",
       "      <td>-0.273557</td>\n",
       "      <td>0.014245</td>\n",
       "      <td>-0.347916</td>\n",
       "      <td>0.008288</td>\n",
       "      <td>...</td>\n",
       "      <td>-0.004012</td>\n",
       "      <td>-0.408956</td>\n",
       "      <td>-0.255125</td>\n",
       "      <td>0.612804</td>\n",
       "      <td>0.747381</td>\n",
       "      <td>-0.072944</td>\n",
       "      <td>-0.695819</td>\n",
       "      <td>0.287154</td>\n",
       "      <td>0.111388</td>\n",
       "      <td>WALKING</td>\n",
       "    </tr>\n",
       "    <tr>\n",
       "      <th>4</th>\n",
       "      <td>0.394807</td>\n",
       "      <td>0.034098</td>\n",
       "      <td>0.091229</td>\n",
       "      <td>0.088489</td>\n",
       "      <td>-0.106636</td>\n",
       "      <td>-0.388502</td>\n",
       "      <td>-0.010469</td>\n",
       "      <td>-0.109680</td>\n",
       "      <td>-0.346372</td>\n",
       "      <td>0.584131</td>\n",
       "      <td>...</td>\n",
       "      <td>-0.157832</td>\n",
       "      <td>-0.563437</td>\n",
       "      <td>-0.044344</td>\n",
       "      <td>-0.845268</td>\n",
       "      <td>-0.974650</td>\n",
       "      <td>-0.887846</td>\n",
       "      <td>-0.705029</td>\n",
       "      <td>0.264952</td>\n",
       "      <td>0.137758</td>\n",
       "      <td>WALKING_DOWNSTAIRS</td>\n",
       "    </tr>\n",
       "  </tbody>\n",
       "</table>\n",
       "<p>5 rows × 562 columns</p>\n",
       "</div>"
      ],
      "text/plain": [
       "   tBodyAcc-mean()-X  tBodyAcc-mean()-Y  tBodyAcc-mean()-Z  tBodyAcc-std()-X  \\\n",
       "0           0.288508          -0.009196          -0.103362         -0.988986   \n",
       "1           0.265757          -0.016576          -0.098163         -0.989551   \n",
       "2           0.278709          -0.014511          -0.108717         -0.997720   \n",
       "3           0.289795          -0.035536          -0.150354         -0.231727   \n",
       "4           0.394807           0.034098           0.091229          0.088489   \n",
       "\n",
       "   tBodyAcc-std()-Y  tBodyAcc-std()-Z  tBodyAcc-mad()-X  tBodyAcc-mad()-Y  \\\n",
       "0         -0.962797         -0.967422         -0.989000         -0.962596   \n",
       "1         -0.994636         -0.987435         -0.990189         -0.993870   \n",
       "2         -0.981088         -0.994008         -0.997934         -0.982187   \n",
       "3         -0.006412         -0.338117         -0.273557          0.014245   \n",
       "4         -0.106636         -0.388502         -0.010469         -0.109680   \n",
       "\n",
       "   tBodyAcc-mad()-Z  tBodyAcc-max()-X  ...  fBodyBodyGyroJerkMag-skewness()  \\\n",
       "0         -0.965650         -0.929747  ...                        -0.487737   \n",
       "1         -0.987558         -0.937337  ...                        -0.237820   \n",
       "2         -0.995017         -0.942584  ...                        -0.535287   \n",
       "3         -0.347916          0.008288  ...                        -0.004012   \n",
       "4         -0.346372          0.584131  ...                        -0.157832   \n",
       "\n",
       "   fBodyBodyGyroJerkMag-kurtosis()  angle(tBodyAccMean,gravity)  \\\n",
       "0                        -0.816696                    -0.042494   \n",
       "1                        -0.693515                    -0.062899   \n",
       "2                        -0.829311                     0.000265   \n",
       "3                        -0.408956                    -0.255125   \n",
       "4                        -0.563437                    -0.044344   \n",
       "\n",
       "   angle(tBodyAccJerkMean),gravityMean)  angle(tBodyGyroMean,gravityMean)  \\\n",
       "0                             -0.044218                          0.307873   \n",
       "1                              0.388459                         -0.765014   \n",
       "2                             -0.525022                         -0.891875   \n",
       "3                              0.612804                          0.747381   \n",
       "4                             -0.845268                         -0.974650   \n",
       "\n",
       "   angle(tBodyGyroJerkMean,gravityMean)  angle(X,gravityMean)  \\\n",
       "0                              0.072790             -0.601120   \n",
       "1                              0.771524              0.345205   \n",
       "2                              0.021528             -0.833564   \n",
       "3                             -0.072944             -0.695819   \n",
       "4                             -0.887846             -0.705029   \n",
       "\n",
       "   angle(Y,gravityMean)  angle(Z,gravityMean)            Activity  \n",
       "0              0.331298              0.165163            STANDING  \n",
       "1             -0.769186             -0.147944              LAYING  \n",
       "2              0.202434             -0.032755            STANDING  \n",
       "3              0.287154              0.111388             WALKING  \n",
       "4              0.264952              0.137758  WALKING_DOWNSTAIRS  \n",
       "\n",
       "[5 rows x 562 columns]"
      ]
     },
     "execution_count": 144,
     "metadata": {},
     "output_type": "execute_result"
    }
   ],
   "source": [
    "data.head()"
   ]
  },
  {
   "cell_type": "code",
   "execution_count": 145,
   "metadata": {
    "id": "jHEIDOHQhPzs"
   },
   "outputs": [
    {
     "data": {
      "text/html": [
       "<div>\n",
       "<style scoped>\n",
       "    .dataframe tbody tr th:only-of-type {\n",
       "        vertical-align: middle;\n",
       "    }\n",
       "\n",
       "    .dataframe tbody tr th {\n",
       "        vertical-align: top;\n",
       "    }\n",
       "\n",
       "    .dataframe thead th {\n",
       "        text-align: right;\n",
       "    }\n",
       "</style>\n",
       "<table border=\"1\" class=\"dataframe\">\n",
       "  <thead>\n",
       "    <tr style=\"text-align: right;\">\n",
       "      <th></th>\n",
       "      <th>count</th>\n",
       "      <th>mean</th>\n",
       "      <th>std</th>\n",
       "      <th>min</th>\n",
       "      <th>25%</th>\n",
       "      <th>50%</th>\n",
       "      <th>75%</th>\n",
       "      <th>max</th>\n",
       "    </tr>\n",
       "  </thead>\n",
       "  <tbody>\n",
       "    <tr>\n",
       "      <th>tBodyAcc-mean()-X</th>\n",
       "      <td>5881.0</td>\n",
       "      <td>0.274811</td>\n",
       "      <td>0.067614</td>\n",
       "      <td>-0.503823</td>\n",
       "      <td>0.262919</td>\n",
       "      <td>0.277154</td>\n",
       "      <td>0.288526</td>\n",
       "      <td>1.000000</td>\n",
       "    </tr>\n",
       "    <tr>\n",
       "      <th>tBodyAcc-mean()-Y</th>\n",
       "      <td>5881.0</td>\n",
       "      <td>-0.017799</td>\n",
       "      <td>0.039422</td>\n",
       "      <td>-0.684893</td>\n",
       "      <td>-0.024877</td>\n",
       "      <td>-0.017221</td>\n",
       "      <td>-0.010920</td>\n",
       "      <td>1.000000</td>\n",
       "    </tr>\n",
       "    <tr>\n",
       "      <th>tBodyAcc-mean()-Z</th>\n",
       "      <td>5881.0</td>\n",
       "      <td>-0.109396</td>\n",
       "      <td>0.058373</td>\n",
       "      <td>-1.000000</td>\n",
       "      <td>-0.121051</td>\n",
       "      <td>-0.108781</td>\n",
       "      <td>-0.098163</td>\n",
       "      <td>1.000000</td>\n",
       "    </tr>\n",
       "    <tr>\n",
       "      <th>tBodyAcc-std()-X</th>\n",
       "      <td>5881.0</td>\n",
       "      <td>-0.603138</td>\n",
       "      <td>0.448807</td>\n",
       "      <td>-1.000000</td>\n",
       "      <td>-0.992774</td>\n",
       "      <td>-0.943933</td>\n",
       "      <td>-0.242130</td>\n",
       "      <td>1.000000</td>\n",
       "    </tr>\n",
       "    <tr>\n",
       "      <th>tBodyAcc-std()-Y</th>\n",
       "      <td>5881.0</td>\n",
       "      <td>-0.509815</td>\n",
       "      <td>0.501815</td>\n",
       "      <td>-0.999844</td>\n",
       "      <td>-0.977680</td>\n",
       "      <td>-0.844575</td>\n",
       "      <td>-0.034499</td>\n",
       "      <td>0.916238</td>\n",
       "    </tr>\n",
       "    <tr>\n",
       "      <th>...</th>\n",
       "      <td>...</td>\n",
       "      <td>...</td>\n",
       "      <td>...</td>\n",
       "      <td>...</td>\n",
       "      <td>...</td>\n",
       "      <td>...</td>\n",
       "      <td>...</td>\n",
       "      <td>...</td>\n",
       "    </tr>\n",
       "    <tr>\n",
       "      <th>angle(tBodyGyroMean,gravityMean)</th>\n",
       "      <td>5881.0</td>\n",
       "      <td>0.009340</td>\n",
       "      <td>0.608190</td>\n",
       "      <td>-1.000000</td>\n",
       "      <td>-0.481718</td>\n",
       "      <td>0.011448</td>\n",
       "      <td>0.499857</td>\n",
       "      <td>0.998702</td>\n",
       "    </tr>\n",
       "    <tr>\n",
       "      <th>angle(tBodyGyroJerkMean,gravityMean)</th>\n",
       "      <td>5881.0</td>\n",
       "      <td>-0.007099</td>\n",
       "      <td>0.476738</td>\n",
       "      <td>-1.000000</td>\n",
       "      <td>-0.373345</td>\n",
       "      <td>-0.000847</td>\n",
       "      <td>0.356236</td>\n",
       "      <td>0.996078</td>\n",
       "    </tr>\n",
       "    <tr>\n",
       "      <th>angle(X,gravityMean)</th>\n",
       "      <td>5881.0</td>\n",
       "      <td>-0.491501</td>\n",
       "      <td>0.509069</td>\n",
       "      <td>-1.000000</td>\n",
       "      <td>-0.811397</td>\n",
       "      <td>-0.709441</td>\n",
       "      <td>-0.511330</td>\n",
       "      <td>0.977344</td>\n",
       "    </tr>\n",
       "    <tr>\n",
       "      <th>angle(Y,gravityMean)</th>\n",
       "      <td>5881.0</td>\n",
       "      <td>0.059299</td>\n",
       "      <td>0.297340</td>\n",
       "      <td>-1.000000</td>\n",
       "      <td>-0.018203</td>\n",
       "      <td>0.182893</td>\n",
       "      <td>0.248435</td>\n",
       "      <td>0.478157</td>\n",
       "    </tr>\n",
       "    <tr>\n",
       "      <th>angle(Z,gravityMean)</th>\n",
       "      <td>5881.0</td>\n",
       "      <td>-0.054594</td>\n",
       "      <td>0.278479</td>\n",
       "      <td>-0.980143</td>\n",
       "      <td>-0.141555</td>\n",
       "      <td>0.003951</td>\n",
       "      <td>0.111932</td>\n",
       "      <td>1.000000</td>\n",
       "    </tr>\n",
       "  </tbody>\n",
       "</table>\n",
       "<p>561 rows × 8 columns</p>\n",
       "</div>"
      ],
      "text/plain": [
       "                                       count      mean       std       min  \\\n",
       "tBodyAcc-mean()-X                     5881.0  0.274811  0.067614 -0.503823   \n",
       "tBodyAcc-mean()-Y                     5881.0 -0.017799  0.039422 -0.684893   \n",
       "tBodyAcc-mean()-Z                     5881.0 -0.109396  0.058373 -1.000000   \n",
       "tBodyAcc-std()-X                      5881.0 -0.603138  0.448807 -1.000000   \n",
       "tBodyAcc-std()-Y                      5881.0 -0.509815  0.501815 -0.999844   \n",
       "...                                      ...       ...       ...       ...   \n",
       "angle(tBodyGyroMean,gravityMean)      5881.0  0.009340  0.608190 -1.000000   \n",
       "angle(tBodyGyroJerkMean,gravityMean)  5881.0 -0.007099  0.476738 -1.000000   \n",
       "angle(X,gravityMean)                  5881.0 -0.491501  0.509069 -1.000000   \n",
       "angle(Y,gravityMean)                  5881.0  0.059299  0.297340 -1.000000   \n",
       "angle(Z,gravityMean)                  5881.0 -0.054594  0.278479 -0.980143   \n",
       "\n",
       "                                           25%       50%       75%       max  \n",
       "tBodyAcc-mean()-X                     0.262919  0.277154  0.288526  1.000000  \n",
       "tBodyAcc-mean()-Y                    -0.024877 -0.017221 -0.010920  1.000000  \n",
       "tBodyAcc-mean()-Z                    -0.121051 -0.108781 -0.098163  1.000000  \n",
       "tBodyAcc-std()-X                     -0.992774 -0.943933 -0.242130  1.000000  \n",
       "tBodyAcc-std()-Y                     -0.977680 -0.844575 -0.034499  0.916238  \n",
       "...                                        ...       ...       ...       ...  \n",
       "angle(tBodyGyroMean,gravityMean)     -0.481718  0.011448  0.499857  0.998702  \n",
       "angle(tBodyGyroJerkMean,gravityMean) -0.373345 -0.000847  0.356236  0.996078  \n",
       "angle(X,gravityMean)                 -0.811397 -0.709441 -0.511330  0.977344  \n",
       "angle(Y,gravityMean)                 -0.018203  0.182893  0.248435  0.478157  \n",
       "angle(Z,gravityMean)                 -0.141555  0.003951  0.111932  1.000000  \n",
       "\n",
       "[561 rows x 8 columns]"
      ]
     },
     "execution_count": 145,
     "metadata": {},
     "output_type": "execute_result"
    }
   ],
   "source": [
    "data.describe().T"
   ]
  },
  {
   "cell_type": "code",
   "execution_count": null,
   "metadata": {
    "id": "oGq1Vq52hPw0"
   },
   "outputs": [],
   "source": []
  },
  {
   "cell_type": "markdown",
   "metadata": {
    "id": "6U3UzQGZAS1o"
   },
   "source": [
    "## **2. 데이터 전처리**\n",
    "\n",
    "* 가변수화, 데이터 분할, NaN 확인 및 조치, 스케일링 등 필요한 전처리를 수행한다. \n"
   ]
  },
  {
   "cell_type": "markdown",
   "metadata": {
    "id": "ZecsiT_DAS1p"
   },
   "source": [
    "### (1) 데이터 분할1 : x, y"
   ]
  },
  {
   "cell_type": "markdown",
   "metadata": {
    "id": "H-DxzcJiJS4W"
   },
   "source": [
    "* 세부 요구사항\n",
    "    - x, y로 분할합니다."
   ]
  },
  {
   "cell_type": "code",
   "execution_count": 146,
   "metadata": {
    "id": "qVqd1JJ6Ajaj"
   },
   "outputs": [],
   "source": [
    "target = 'Activity'\n",
    "x = data.drop(target,axis=1)\n",
    "y = data.loc[:,target]"
   ]
  },
  {
   "cell_type": "markdown",
   "metadata": {
    "id": "A8hxVzM3Agvw"
   },
   "source": [
    "### (2) 스케일링(필요시)\n"
   ]
  },
  {
   "cell_type": "markdown",
   "metadata": {
    "id": "8OHAQJ9HJZP8"
   },
   "source": [
    "* 세부 요구사항\n",
    "    - 스케일링을 필요로 하는 알고리즘 사용을 위해서 코드 수행\n",
    "    - min-max 방식 혹은 standard 방식 중 한가지 사용."
   ]
  },
  {
   "cell_type": "code",
   "execution_count": 147,
   "metadata": {
    "id": "egLANGC5BMmk"
   },
   "outputs": [],
   "source": [
    "scaler = MinMaxScaler()\n",
    "x_s = scaler.fit_transform(x)"
   ]
  },
  {
   "cell_type": "markdown",
   "metadata": {
    "id": "MpZfnAa4BefE"
   },
   "source": [
    "### (3) 데이터분할2 : train, validation"
   ]
  },
  {
   "cell_type": "markdown",
   "metadata": {
    "id": "YOYncknxWg0E"
   },
   "source": [
    "* 세부 요구사항\n",
    "    - train : val = 8 : 2 혹은 7 : 3\n",
    "    - random_state 옵션을 사용하여 다른 모델과 비교를 위해 성능이 재현되도록 합니다."
   ]
  },
  {
   "cell_type": "code",
   "execution_count": 151,
   "metadata": {
    "id": "1AoCDDpdBeCT"
   },
   "outputs": [],
   "source": [
    "x_train,x_val,y_train,y_val = train_test_split(x,y,test_size=.2,random_state=1)\n",
    "x_train_s,x_val_s,y_train_s,y_val_s = train_test_split(x_s,y,test_size=.2,random_state=1)"
   ]
  },
  {
   "cell_type": "markdown",
   "metadata": {
    "id": "RfSZ5O4sBQf3"
   },
   "source": [
    "## **3. 기본 모델링**\n",
    "\n"
   ]
  },
  {
   "cell_type": "markdown",
   "metadata": {
    "id": "WAOal2RuWzNk"
   },
   "source": [
    "* 세부 요구사항\n",
    "    - 최소 4개 이상의 알고리즘을 적용하여 모델링을 수행한다. \n",
    "    - 각 알고리즘별로 전체 변수로 모델링, 상위 N개 변수를 선택하여 모델링을 수행하고 성능 비교를 한다.\n",
    "    - (옵션) 알고리즘 중 1~2개에 대해서, 변수 중요도 상위 N개를 선정하여 모델링하고 타 모델과 성능을 비교.\n",
    "        * 상위 N개를 선택하는 방법은, 변수를 하나씩 늘려가며 모델링 및 성능 검증을 수행하여 적절한 지점을 찾는 것이다."
   ]
  },
  {
   "cell_type": "markdown",
   "metadata": {
    "id": "6JKfabsMB-CK"
   },
   "source": [
    "### (1) 알고리즘1 : "
   ]
  },
  {
   "cell_type": "code",
   "execution_count": 152,
   "metadata": {
    "id": "TbeDMR9nh_it"
   },
   "outputs": [],
   "source": [
    "model1 = RandomForestClassifier(random_state=1)\n",
    "model1.fit(x_train,y_train)\n",
    "y_pred1 = model1.predict(x_val)"
   ]
  },
  {
   "cell_type": "code",
   "execution_count": 209,
   "metadata": {
    "id": "sVtVxZ-oh_ej"
   },
   "outputs": [
    {
     "name": "stdout",
     "output_type": "stream",
     "text": [
      "0.9770603228547153\n",
      "[[220   0   0   0   1   1]\n",
      " [  0 191   7   0   0   0]\n",
      " [  0   7 228   0   0   0]\n",
      " [  0   0   0 186   3   3]\n",
      " [  0   0   0   1 153   2]\n",
      " [  0   0   0   1   1 172]]\n",
      "                    precision    recall  f1-score   support\n",
      "\n",
      "            LAYING       1.00      0.99      1.00       222\n",
      "           SITTING       0.96      0.96      0.96       198\n",
      "          STANDING       0.97      0.97      0.97       235\n",
      "           WALKING       0.99      0.97      0.98       192\n",
      "WALKING_DOWNSTAIRS       0.97      0.98      0.97       156\n",
      "  WALKING_UPSTAIRS       0.97      0.99      0.98       174\n",
      "\n",
      "          accuracy                           0.98      1177\n",
      "         macro avg       0.98      0.98      0.98      1177\n",
      "      weighted avg       0.98      0.98      0.98      1177\n",
      "\n"
     ]
    }
   ],
   "source": [
    "print(accuracy_score(y_val,y_pred1))\n",
    "print(confusion_matrix(y_val,y_pred1))\n",
    "print(classification_report(y_val,y_pred1))"
   ]
  },
  {
   "cell_type": "code",
   "execution_count": 154,
   "metadata": {
    "id": "Rzi0ygW5h_bq"
   },
   "outputs": [
    {
     "data": {
      "image/png": "[encoded data removed]",
      "text/plain": [
       "<Figure size 640x480 with 1 Axes>"
      ]
     },
     "metadata": {},
     "output_type": "display_data"
    }
   ],
   "source": [
    "importance = model1.feature_importances_\n",
    "feature_name = x_train.columns\n",
    "df = feature_importances (importance,feature_name)"
   ]
  },
  {
   "cell_type": "code",
   "execution_count": 210,
   "metadata": {
    "id": "Gq_tTBhmh_Yd"
   },
   "outputs": [
    {
     "data": {
      "text/html": [
       "<div>\n",
       "<style scoped>\n",
       "    .dataframe tbody tr th:only-of-type {\n",
       "        vertical-align: middle;\n",
       "    }\n",
       "\n",
       "    .dataframe tbody tr th {\n",
       "        vertical-align: top;\n",
       "    }\n",
       "\n",
       "    .dataframe thead th {\n",
       "        text-align: right;\n",
       "    }\n",
       "</style>\n",
       "<table border=\"1\" class=\"dataframe\">\n",
       "  <thead>\n",
       "    <tr style=\"text-align: right;\">\n",
       "      <th></th>\n",
       "      <th>importance</th>\n",
       "      <th>feature_name</th>\n",
       "    </tr>\n",
       "  </thead>\n",
       "  <tbody>\n",
       "    <tr>\n",
       "      <th>0</th>\n",
       "      <td>0.039760</td>\n",
       "      <td>angle(X,gravityMean)</td>\n",
       "    </tr>\n",
       "    <tr>\n",
       "      <th>1</th>\n",
       "      <td>0.034240</td>\n",
       "      <td>tGravityAcc-min()-X</td>\n",
       "    </tr>\n",
       "    <tr>\n",
       "      <th>2</th>\n",
       "      <td>0.029040</td>\n",
       "      <td>tGravityAcc-energy()-X</td>\n",
       "    </tr>\n",
       "    <tr>\n",
       "      <th>3</th>\n",
       "      <td>0.027413</td>\n",
       "      <td>tGravityAcc-mean()-X</td>\n",
       "    </tr>\n",
       "    <tr>\n",
       "      <th>4</th>\n",
       "      <td>0.023984</td>\n",
       "      <td>tGravityAcc-min()-Y</td>\n",
       "    </tr>\n",
       "  </tbody>\n",
       "</table>\n",
       "</div>"
      ],
      "text/plain": [
       "   importance            feature_name\n",
       "0    0.039760    angle(X,gravityMean)\n",
       "1    0.034240     tGravityAcc-min()-X\n",
       "2    0.029040  tGravityAcc-energy()-X\n",
       "3    0.027413    tGravityAcc-mean()-X\n",
       "4    0.023984     tGravityAcc-min()-Y"
      ]
     },
     "execution_count": 210,
     "metadata": {},
     "output_type": "execute_result"
    }
   ],
   "source": [
    "df.head()"
   ]
  },
  {
   "cell_type": "code",
   "execution_count": 156,
   "metadata": {},
   "outputs": [
    {
     "data": {
      "text/plain": [
       "0      angle(X,gravityMean)\n",
       "1       tGravityAcc-min()-X\n",
       "2    tGravityAcc-energy()-X\n",
       "3      tGravityAcc-mean()-X\n",
       "4       tGravityAcc-min()-Y\n",
       "Name: feature_name, dtype: object"
      ]
     },
     "execution_count": 156,
     "metadata": {},
     "output_type": "execute_result"
    }
   ],
   "source": [
    "feature_100 = df.loc[:99,'feature_name']\n",
    "feature_100.head()"
   ]
  },
  {
   "cell_type": "code",
   "execution_count": 157,
   "metadata": {},
   "outputs": [],
   "source": [
    "x_train_100 = x_train[feature_100]\n",
    "x_val_100 = x_val[feature_100]"
   ]
  },
  {
   "cell_type": "code",
   "execution_count": 158,
   "metadata": {},
   "outputs": [],
   "source": [
    "model1_2 = RandomForestClassifier(random_state=1)\n",
    "model1_2.fit(x_train_100,y_train)\n",
    "y_pred1_2 = model1_2.predict(x_val_100)"
   ]
  },
  {
   "cell_type": "code",
   "execution_count": 211,
   "metadata": {},
   "outputs": [
    {
     "name": "stdout",
     "output_type": "stream",
     "text": [
      "0.9770603228547153\n",
      "[[222   0   0   0   0   0]\n",
      " [  0 194   4   0   0   0]\n",
      " [  0  10 225   0   0   0]\n",
      " [  0   0   0 187   2   3]\n",
      " [  0   0   0   5 149   2]\n",
      " [  0   0   0   0   1 173]]\n",
      "                    precision    recall  f1-score   support\n",
      "\n",
      "            LAYING       1.00      1.00      1.00       222\n",
      "           SITTING       0.95      0.98      0.97       198\n",
      "          STANDING       0.98      0.96      0.97       235\n",
      "           WALKING       0.97      0.97      0.97       192\n",
      "WALKING_DOWNSTAIRS       0.98      0.96      0.97       156\n",
      "  WALKING_UPSTAIRS       0.97      0.99      0.98       174\n",
      "\n",
      "          accuracy                           0.98      1177\n",
      "         macro avg       0.98      0.98      0.98      1177\n",
      "      weighted avg       0.98      0.98      0.98      1177\n",
      "\n"
     ]
    }
   ],
   "source": [
    "print(accuracy_score(y_val,y_pred1_2))\n",
    "print(confusion_matrix(y_val,y_pred1_2))\n",
    "print(classification_report(y_val,y_pred1_2))"
   ]
  },
  {
   "cell_type": "markdown",
   "metadata": {
    "id": "rFv7rDSQCDg0"
   },
   "source": [
    "### (2) 알고리즘2 : "
   ]
  },
  {
   "cell_type": "code",
   "execution_count": 160,
   "metadata": {},
   "outputs": [],
   "source": [
    "model2=KNeighborsClassifier()\n",
    "model2.fit(x_train_s,y_train_s)\n",
    "y_pred2 = model2.predict(x_val_s)"
   ]
  },
  {
   "cell_type": "code",
   "execution_count": 161,
   "metadata": {},
   "outputs": [
    {
     "name": "stdout",
     "output_type": "stream",
     "text": [
      "[[220   1   0   0   1   0]\n",
      " [  1 167  30   0   0   0]\n",
      " [  0  13 222   0   0   0]\n",
      " [  0   0   0 192   0   0]\n",
      " [  0   0   0   1 153   2]\n",
      " [  0   0   0   1   0 173]]\n",
      "                    precision    recall  f1-score   support\n",
      "\n",
      "            LAYING       1.00      0.99      0.99       222\n",
      "           SITTING       0.92      0.84      0.88       198\n",
      "          STANDING       0.88      0.94      0.91       235\n",
      "           WALKING       0.99      1.00      0.99       192\n",
      "WALKING_DOWNSTAIRS       0.99      0.98      0.99       156\n",
      "  WALKING_UPSTAIRS       0.99      0.99      0.99       174\n",
      "\n",
      "          accuracy                           0.96      1177\n",
      "         macro avg       0.96      0.96      0.96      1177\n",
      "      weighted avg       0.96      0.96      0.96      1177\n",
      "\n"
     ]
    }
   ],
   "source": [
    "print(confusion_matrix(y_val_s,y_pred2))\n",
    "print(classification_report(y_val_s,y_pred2))"
   ]
  },
  {
   "cell_type": "markdown",
   "metadata": {
    "id": "W8izzKzVhXbb"
   },
   "source": [
    "### (3) 알고리즘3 : "
   ]
  },
  {
   "cell_type": "code",
   "execution_count": 162,
   "metadata": {
    "id": "GnqH9-fZiHhv"
   },
   "outputs": [],
   "source": [
    "from sklearn.model_selection import GridSearchCV\n",
    "model_RF = RandomForestClassifier(random_state=1) \n",
    "params={'max_depth':range(1,20)}\n",
    "model3 = GridSearchCV(model_RF,\n",
    "                     params,\n",
    "                     cv=5,\n",
    "                     scoring='accuracy')"
   ]
  },
  {
   "cell_type": "code",
   "execution_count": 163,
   "metadata": {
    "id": "WHecu7DIiHcK"
   },
   "outputs": [
    {
     "data": {
      "text/html": [
       "<style>#sk-container-id-3 {\n",
       "  /* Definition of color scheme common for light and dark mode */\n",
       "  --sklearn-color-text: black;\n",
       "  --sklearn-color-line: gray;\n",
       "  /* Definition of color scheme for unfitted estimators */\n",
       "  --sklearn-color-unfitted-level-0: #fff5e6;\n",
       "  --sklearn-color-unfitted-level-1: #f6e4d2;\n",
       "  --sklearn-color-unfitted-level-2: #ffe0b3;\n",
       "  --sklearn-color-unfitted-level-3: chocolate;\n",
       "  /* Definition of color scheme for fitted estimators */\n",
       "  --sklearn-color-fitted-level-0: #f0f8ff;\n",
       "  --sklearn-color-fitted-level-1: #d4ebff;\n",
       "  --sklearn-color-fitted-level-2: #b3dbfd;\n",
       "  --sklearn-color-fitted-level-3: cornflowerblue;\n",
       "\n",
       "  /* Specific color for light theme */\n",
       "  --sklearn-color-text-on-default-background: var(--sg-text-color, var(--theme-code-foreground, var(--jp-content-font-color1, black)));\n",
       "  --sklearn-color-background: var(--sg-background-color, var(--theme-background, var(--jp-layout-color0, white)));\n",
       "  --sklearn-color-border-box: var(--sg-text-color, var(--theme-code-foreground, var(--jp-content-font-color1, black)));\n",
       "  --sklearn-color-icon: #696969;\n",
       "\n",
       "  @media (prefers-color-scheme: dark) {\n",
       "    /* Redefinition of color scheme for dark theme */\n",
       "    --sklearn-color-text-on-default-background: var(--sg-text-color, var(--theme-code-foreground, var(--jp-content-font-color1, white)));\n",
       "    --sklearn-color-background: var(--sg-background-color, var(--theme-background, var(--jp-layout-color0, #111)));\n",
       "    --sklearn-color-border-box: var(--sg-text-color, var(--theme-code-foreground, var(--jp-content-font-color1, white)));\n",
       "    --sklearn-color-icon: #878787;\n",
       "  }\n",
       "}\n",
       "\n",
       "#sk-container-id-3 {\n",
       "  color: var(--sklearn-color-text);\n",
       "}\n",
       "\n",
       "#sk-container-id-3 pre {\n",
       "  padding: 0;\n",
       "}\n",
       "\n",
       "#sk-container-id-3 input.sk-hidden--visually {\n",
       "  border: 0;\n",
       "  clip: rect(1px 1px 1px 1px);\n",
       "  clip: rect(1px, 1px, 1px, 1px);\n",
       "  height: 1px;\n",
       "  margin: -1px;\n",
       "  overflow: hidden;\n",
       "  padding: 0;\n",
       "  position: absolute;\n",
       "  width: 1px;\n",
       "}\n",
       "\n",
       "#sk-container-id-3 div.sk-dashed-wrapped {\n",
       "  border: 1px dashed var(--sklearn-color-line);\n",
       "  margin: 0 0.4em 0.5em 0.4em;\n",
       "  box-sizing: border-box;\n",
       "  padding-bottom: 0.4em;\n",
       "  background-color: var(--sklearn-color-background);\n",
       "}\n",
       "\n",
       "#sk-container-id-3 div.sk-container {\n",
       "  /* jupyter's `normalize.less` sets `[hidden] { display: none; }`\n",
       "     but bootstrap.min.css set `[hidden] { display: none !important; }`\n",
       "     so we also need the `!important` here to be able to override the\n",
       "     default hidden behavior on the sphinx rendered scikit-learn.org.\n",
       "     See: https://github.com/scikit-learn/scikit-learn/issues/21755 */\n",
       "  display: inline-block !important;\n",
       "  position: relative;\n",
       "}\n",
       "\n",
       "#sk-container-id-3 div.sk-text-repr-fallback {\n",
       "  display: none;\n",
       "}\n",
       "\n",
       "div.sk-parallel-item,\n",
       "div.sk-serial,\n",
       "div.sk-item {\n",
       "  /* draw centered vertical line to link estimators */\n",
       "  background-image: linear-gradient(var(--sklearn-color-text-on-default-background), var(--sklearn-color-text-on-default-background));\n",
       "  background-size: 2px 100%;\n",
       "  background-repeat: no-repeat;\n",
       "  background-position: center center;\n",
       "}\n",
       "\n",
       "/* Parallel-specific style estimator block */\n",
       "\n",
       "#sk-container-id-3 div.sk-parallel-item::after {\n",
       "  content: \"\";\n",
       "  width: 100%;\n",
       "  border-bottom: 2px solid var(--sklearn-color-text-on-default-background);\n",
       "  flex-grow: 1;\n",
       "}\n",
       "\n",
       "#sk-container-id-3 div.sk-parallel {\n",
       "  display: flex;\n",
       "  align-items: stretch;\n",
       "  justify-content: center;\n",
       "  background-color: var(--sklearn-color-background);\n",
       "  position: relative;\n",
       "}\n",
       "\n",
       "#sk-container-id-3 div.sk-parallel-item {\n",
       "  display: flex;\n",
       "  flex-direction: column;\n",
       "}\n",
       "\n",
       "#sk-container-id-3 div.sk-parallel-item:first-child::after {\n",
       "  align-self: flex-end;\n",
       "  width: 50%;\n",
       "}\n",
       "\n",
       "#sk-container-id-3 div.sk-parallel-item:last-child::after {\n",
       "  align-self: flex-start;\n",
       "  width: 50%;\n",
       "}\n",
       "\n",
       "#sk-container-id-3 div.sk-parallel-item:only-child::after {\n",
       "  width: 0;\n",
       "}\n",
       "\n",
       "/* Serial-specific style estimator block */\n",
       "\n",
       "#sk-container-id-3 div.sk-serial {\n",
       "  display: flex;\n",
       "  flex-direction: column;\n",
       "  align-items: center;\n",
       "  background-color: var(--sklearn-color-background);\n",
       "  padding-right: 1em;\n",
       "  padding-left: 1em;\n",
       "}\n",
       "\n",
       "\n",
       "/* Toggleable style: style used for estimator/Pipeline/ColumnTransformer box that is\n",
       "clickable and can be expanded/collapsed.\n",
       "- Pipeline and ColumnTransformer use this feature and define the default style\n",
       "- Estimators will overwrite some part of the style using the `sk-estimator` class\n",
       "*/\n",
       "\n",
       "/* Pipeline and ColumnTransformer style (default) */\n",
       "\n",
       "#sk-container-id-3 div.sk-toggleable {\n",
       "  /* Default theme specific background. It is overwritten whether we have a\n",
       "  specific estimator or a Pipeline/ColumnTransformer */\n",
       "  background-color: var(--sklearn-color-background);\n",
       "}\n",
       "\n",
       "/* Toggleable label */\n",
       "#sk-container-id-3 label.sk-toggleable__label {\n",
       "  cursor: pointer;\n",
       "  display: block;\n",
       "  width: 100%;\n",
       "  margin-bottom: 0;\n",
       "  padding: 0.5em;\n",
       "  box-sizing: border-box;\n",
       "  text-align: center;\n",
       "}\n",
       "\n",
       "#sk-container-id-3 label.sk-toggleable__label-arrow:before {\n",
       "  /* Arrow on the left of the label */\n",
       "  content: \"▸\";\n",
       "  float: left;\n",
       "  margin-right: 0.25em;\n",
       "  color: var(--sklearn-color-icon);\n",
       "}\n",
       "\n",
       "#sk-container-id-3 label.sk-toggleable__label-arrow:hover:before {\n",
       "  color: var(--sklearn-color-text);\n",
       "}\n",
       "\n",
       "/* Toggleable content - dropdown */\n",
       "\n",
       "#sk-container-id-3 div.sk-toggleable__content {\n",
       "  max-height: 0;\n",
       "  max-width: 0;\n",
       "  overflow: hidden;\n",
       "  text-align: left;\n",
       "  /* unfitted */\n",
       "  background-color: var(--sklearn-color-unfitted-level-0);\n",
       "}\n",
       "\n",
       "#sk-container-id-3 div.sk-toggleable__content.fitted {\n",
       "  /* fitted */\n",
       "  background-color: var(--sklearn-color-fitted-level-0);\n",
       "}\n",
       "\n",
       "#sk-container-id-3 div.sk-toggleable__content pre {\n",
       "  margin: 0.2em;\n",
       "  border-radius: 0.25em;\n",
       "  color: var(--sklearn-color-text);\n",
       "  /* unfitted */\n",
       "  background-color: var(--sklearn-color-unfitted-level-0);\n",
       "}\n",
       "\n",
       "#sk-container-id-3 div.sk-toggleable__content.fitted pre {\n",
       "  /* unfitted */\n",
       "  background-color: var(--sklearn-color-fitted-level-0);\n",
       "}\n",
       "\n",
       "#sk-container-id-3 input.sk-toggleable__control:checked~div.sk-toggleable__content {\n",
       "  /* Expand drop-down */\n",
       "  max-height: 200px;\n",
       "  max-width: 100%;\n",
       "  overflow: auto;\n",
       "}\n",
       "\n",
       "#sk-container-id-3 input.sk-toggleable__control:checked~label.sk-toggleable__label-arrow:before {\n",
       "  content: \"▾\";\n",
       "}\n",
       "\n",
       "/* Pipeline/ColumnTransformer-specific style */\n",
       "\n",
       "#sk-container-id-3 div.sk-label input.sk-toggleable__control:checked~label.sk-toggleable__label {\n",
       "  color: var(--sklearn-color-text);\n",
       "  background-color: var(--sklearn-color-unfitted-level-2);\n",
       "}\n",
       "\n",
       "#sk-container-id-3 div.sk-label.fitted input.sk-toggleable__control:checked~label.sk-toggleable__label {\n",
       "  background-color: var(--sklearn-color-fitted-level-2);\n",
       "}\n",
       "\n",
       "/* Estimator-specific style */\n",
       "\n",
       "/* Colorize estimator box */\n",
       "#sk-container-id-3 div.sk-estimator input.sk-toggleable__control:checked~label.sk-toggleable__label {\n",
       "  /* unfitted */\n",
       "  background-color: var(--sklearn-color-unfitted-level-2);\n",
       "}\n",
       "\n",
       "#sk-container-id-3 div.sk-estimator.fitted input.sk-toggleable__control:checked~label.sk-toggleable__label {\n",
       "  /* fitted */\n",
       "  background-color: var(--sklearn-color-fitted-level-2);\n",
       "}\n",
       "\n",
       "#sk-container-id-3 div.sk-label label.sk-toggleable__label,\n",
       "#sk-container-id-3 div.sk-label label {\n",
       "  /* The background is the default theme color */\n",
       "  color: var(--sklearn-color-text-on-default-background);\n",
       "}\n",
       "\n",
       "/* On hover, darken the color of the background */\n",
       "#sk-container-id-3 div.sk-label:hover label.sk-toggleable__label {\n",
       "  color: var(--sklearn-color-text);\n",
       "  background-color: var(--sklearn-color-unfitted-level-2);\n",
       "}\n",
       "\n",
       "/* Label box, darken color on hover, fitted */\n",
       "#sk-container-id-3 div.sk-label.fitted:hover label.sk-toggleable__label.fitted {\n",
       "  color: var(--sklearn-color-text);\n",
       "  background-color: var(--sklearn-color-fitted-level-2);\n",
       "}\n",
       "\n",
       "/* Estimator label */\n",
       "\n",
       "#sk-container-id-3 div.sk-label label {\n",
       "  font-family: monospace;\n",
       "  font-weight: bold;\n",
       "  display: inline-block;\n",
       "  line-height: 1.2em;\n",
       "}\n",
       "\n",
       "#sk-container-id-3 div.sk-label-container {\n",
       "  text-align: center;\n",
       "}\n",
       "\n",
       "/* Estimator-specific */\n",
       "#sk-container-id-3 div.sk-estimator {\n",
       "  font-family: monospace;\n",
       "  border: 1px dotted var(--sklearn-color-border-box);\n",
       "  border-radius: 0.25em;\n",
       "  box-sizing: border-box;\n",
       "  margin-bottom: 0.5em;\n",
       "  /* unfitted */\n",
       "  background-color: var(--sklearn-color-unfitted-level-0);\n",
       "}\n",
       "\n",
       "#sk-container-id-3 div.sk-estimator.fitted {\n",
       "  /* fitted */\n",
       "  background-color: var(--sklearn-color-fitted-level-0);\n",
       "}\n",
       "\n",
       "/* on hover */\n",
       "#sk-container-id-3 div.sk-estimator:hover {\n",
       "  /* unfitted */\n",
       "  background-color: var(--sklearn-color-unfitted-level-2);\n",
       "}\n",
       "\n",
       "#sk-container-id-3 div.sk-estimator.fitted:hover {\n",
       "  /* fitted */\n",
       "  background-color: var(--sklearn-color-fitted-level-2);\n",
       "}\n",
       "\n",
       "/* Specification for estimator info (e.g. \"i\" and \"?\") */\n",
       "\n",
       "/* Common style for \"i\" and \"?\" */\n",
       "\n",
       ".sk-estimator-doc-link,\n",
       "a:link.sk-estimator-doc-link,\n",
       "a:visited.sk-estimator-doc-link {\n",
       "  float: right;\n",
       "  font-size: smaller;\n",
       "  line-height: 1em;\n",
       "  font-family: monospace;\n",
       "  background-color: var(--sklearn-color-background);\n",
       "  border-radius: 1em;\n",
       "  height: 1em;\n",
       "  width: 1em;\n",
       "  text-decoration: none !important;\n",
       "  margin-left: 1ex;\n",
       "  /* unfitted */\n",
       "  border: var(--sklearn-color-unfitted-level-1) 1pt solid;\n",
       "  color: var(--sklearn-color-unfitted-level-1);\n",
       "}\n",
       "\n",
       ".sk-estimator-doc-link.fitted,\n",
       "a:link.sk-estimator-doc-link.fitted,\n",
       "a:visited.sk-estimator-doc-link.fitted {\n",
       "  /* fitted */\n",
       "  border: var(--sklearn-color-fitted-level-1) 1pt solid;\n",
       "  color: var(--sklearn-color-fitted-level-1);\n",
       "}\n",
       "\n",
       "/* On hover */\n",
       "div.sk-estimator:hover .sk-estimator-doc-link:hover,\n",
       ".sk-estimator-doc-link:hover,\n",
       "div.sk-label-container:hover .sk-estimator-doc-link:hover,\n",
       ".sk-estimator-doc-link:hover {\n",
       "  /* unfitted */\n",
       "  background-color: var(--sklearn-color-unfitted-level-3);\n",
       "  color: var(--sklearn-color-background);\n",
       "  text-decoration: none;\n",
       "}\n",
       "\n",
       "div.sk-estimator.fitted:hover .sk-estimator-doc-link.fitted:hover,\n",
       ".sk-estimator-doc-link.fitted:hover,\n",
       "div.sk-label-container:hover .sk-estimator-doc-link.fitted:hover,\n",
       ".sk-estimator-doc-link.fitted:hover {\n",
       "  /* fitted */\n",
       "  background-color: var(--sklearn-color-fitted-level-3);\n",
       "  color: var(--sklearn-color-background);\n",
       "  text-decoration: none;\n",
       "}\n",
       "\n",
       "/* Span, style for the box shown on hovering the info icon */\n",
       ".sk-estimator-doc-link span {\n",
       "  display: none;\n",
       "  z-index: 9999;\n",
       "  position: relative;\n",
       "  font-weight: normal;\n",
       "  right: .2ex;\n",
       "  padding: .5ex;\n",
       "  margin: .5ex;\n",
       "  width: min-content;\n",
       "  min-width: 20ex;\n",
       "  max-width: 50ex;\n",
       "  color: var(--sklearn-color-text);\n",
       "  box-shadow: 2pt 2pt 4pt #999;\n",
       "  /* unfitted */\n",
       "  background: var(--sklearn-color-unfitted-level-0);\n",
       "  border: .5pt solid var(--sklearn-color-unfitted-level-3);\n",
       "}\n",
       "\n",
       ".sk-estimator-doc-link.fitted span {\n",
       "  /* fitted */\n",
       "  background: var(--sklearn-color-fitted-level-0);\n",
       "  border: var(--sklearn-color-fitted-level-3);\n",
       "}\n",
       "\n",
       ".sk-estimator-doc-link:hover span {\n",
       "  display: block;\n",
       "}\n",
       "\n",
       "/* \"?\"-specific style due to the `<a>` HTML tag */\n",
       "\n",
       "#sk-container-id-3 a.estimator_doc_link {\n",
       "  float: right;\n",
       "  font-size: 1rem;\n",
       "  line-height: 1em;\n",
       "  font-family: monospace;\n",
       "  background-color: var(--sklearn-color-background);\n",
       "  border-radius: 1rem;\n",
       "  height: 1rem;\n",
       "  width: 1rem;\n",
       "  text-decoration: none;\n",
       "  /* unfitted */\n",
       "  color: var(--sklearn-color-unfitted-level-1);\n",
       "  border: var(--sklearn-color-unfitted-level-1) 1pt solid;\n",
       "}\n",
       "\n",
       "#sk-container-id-3 a.estimator_doc_link.fitted {\n",
       "  /* fitted */\n",
       "  border: var(--sklearn-color-fitted-level-1) 1pt solid;\n",
       "  color: var(--sklearn-color-fitted-level-1);\n",
       "}\n",
       "\n",
       "/* On hover */\n",
       "#sk-container-id-3 a.estimator_doc_link:hover {\n",
       "  /* unfitted */\n",
       "  background-color: var(--sklearn-color-unfitted-level-3);\n",
       "  color: var(--sklearn-color-background);\n",
       "  text-decoration: none;\n",
       "}\n",
       "\n",
       "#sk-container-id-3 a.estimator_doc_link.fitted:hover {\n",
       "  /* fitted */\n",
       "  background-color: var(--sklearn-color-fitted-level-3);\n",
       "}\n",
       "</style><div id=\"sk-container-id-3\" class=\"sk-top-container\"><div class=\"sk-text-repr-fallback\"><pre>GridSearchCV(cv=5, estimator=RandomForestClassifier(random_state=1),\n",
       "             param_grid={&#x27;max_depth&#x27;: range(1, 20)}, scoring=&#x27;accuracy&#x27;)</pre><b>In a Jupyter environment, please rerun this cell to show the HTML representation or trust the notebook. <br />On GitHub, the HTML representation is unable to render, please try loading this page with nbviewer.org.</b></div><div class=\"sk-container\" hidden><div class=\"sk-item sk-dashed-wrapped\"><div class=\"sk-label-container\"><div class=\"sk-label fitted sk-toggleable\"><input class=\"sk-toggleable__control sk-hidden--visually\" id=\"sk-estimator-id-7\" type=\"checkbox\" ><label for=\"sk-estimator-id-7\" class=\"sk-toggleable__label fitted sk-toggleable__label-arrow fitted\">&nbsp;&nbsp;GridSearchCV<a class=\"sk-estimator-doc-link fitted\" rel=\"noreferrer\" target=\"_blank\" href=\"https://scikit-learn.org/1.4/modules/generated/sklearn.model_selection.GridSearchCV.html\">?<span>Documentation for GridSearchCV</span></a><span class=\"sk-estimator-doc-link fitted\">i<span>Fitted</span></span></label><div class=\"sk-toggleable__content fitted\"><pre>GridSearchCV(cv=5, estimator=RandomForestClassifier(random_state=1),\n",
       "             param_grid={&#x27;max_depth&#x27;: range(1, 20)}, scoring=&#x27;accuracy&#x27;)</pre></div> </div></div><div class=\"sk-parallel\"><div class=\"sk-parallel-item\"><div class=\"sk-item\"><div class=\"sk-label-container\"><div class=\"sk-label fitted sk-toggleable\"><input class=\"sk-toggleable__control sk-hidden--visually\" id=\"sk-estimator-id-8\" type=\"checkbox\" ><label for=\"sk-estimator-id-8\" class=\"sk-toggleable__label fitted sk-toggleable__label-arrow fitted\">estimator: RandomForestClassifier</label><div class=\"sk-toggleable__content fitted\"><pre>RandomForestClassifier(random_state=1)</pre></div> </div></div><div class=\"sk-serial\"><div class=\"sk-item\"><div class=\"sk-estimator fitted sk-toggleable\"><input class=\"sk-toggleable__control sk-hidden--visually\" id=\"sk-estimator-id-9\" type=\"checkbox\" ><label for=\"sk-estimator-id-9\" class=\"sk-toggleable__label fitted sk-toggleable__label-arrow fitted\">&nbsp;RandomForestClassifier<a class=\"sk-estimator-doc-link fitted\" rel=\"noreferrer\" target=\"_blank\" href=\"https://scikit-learn.org/1.4/modules/generated/sklearn.ensemble.RandomForestClassifier.html\">?<span>Documentation for RandomForestClassifier</span></a></label><div class=\"sk-toggleable__content fitted\"><pre>RandomForestClassifier(random_state=1)</pre></div> </div></div></div></div></div></div></div></div></div>"
      ],
      "text/plain": [
       "GridSearchCV(cv=5, estimator=RandomForestClassifier(random_state=1),\n",
       "             param_grid={'max_depth': range(1, 20)}, scoring='accuracy')"
      ]
     },
     "execution_count": 163,
     "metadata": {},
     "output_type": "execute_result"
    }
   ],
   "source": [
    "model3.fit(x_train,y_train)"
   ]
  },
  {
   "cell_type": "code",
   "execution_count": 164,
   "metadata": {
    "id": "uTnvRBy-iHS7"
   },
   "outputs": [
    {
     "name": "stdout",
     "output_type": "stream",
     "text": [
      "{'max_depth': 17}\n",
      "0.9738519456440636\n"
     ]
    }
   ],
   "source": [
    "print(model3.best_params_)\n",
    "print(model3.best_score_)"
   ]
  },
  {
   "cell_type": "code",
   "execution_count": 165,
   "metadata": {},
   "outputs": [
    {
     "name": "stdout",
     "output_type": "stream",
     "text": [
      "[[220   0   0   0   0   2]\n",
      " [  0 192   6   0   0   0]\n",
      " [  0   7 228   0   0   0]\n",
      " [  0   0   0 187   2   3]\n",
      " [  0   0   0   1 153   2]\n",
      " [  0   0   0   1   1 172]]\n",
      "                    precision    recall  f1-score   support\n",
      "\n",
      "            LAYING       1.00      0.99      1.00       222\n",
      "           SITTING       0.96      0.97      0.97       198\n",
      "          STANDING       0.97      0.97      0.97       235\n",
      "           WALKING       0.99      0.97      0.98       192\n",
      "WALKING_DOWNSTAIRS       0.98      0.98      0.98       156\n",
      "  WALKING_UPSTAIRS       0.96      0.99      0.97       174\n",
      "\n",
      "          accuracy                           0.98      1177\n",
      "         macro avg       0.98      0.98      0.98      1177\n",
      "      weighted avg       0.98      0.98      0.98      1177\n",
      "\n"
     ]
    }
   ],
   "source": [
    "y_pred3 = model3.predict(x_val)\n",
    "print(confusion_matrix(y_val,y_pred3))\n",
    "print(classification_report(y_val,y_pred3))"
   ]
  },
  {
   "cell_type": "code",
   "execution_count": 166,
   "metadata": {
    "id": "PtjI3khPiHQD",
    "scrolled": true
   },
   "outputs": [
    {
     "data": {
      "image/png": "[encoded data removed]",
      "text/plain": [
       "<Figure size 640x480 with 1 Axes>"
      ]
     },
     "metadata": {},
     "output_type": "display_data"
    }
   ],
   "source": [
    "importance = model3.best_estimator_.feature_importances_\n",
    "feature_name = x_train.columns\n",
    "df = feature_importances(importance,feature_name)"
   ]
  },
  {
   "cell_type": "code",
   "execution_count": 168,
   "metadata": {
    "id": "f14w3xAniHNL"
   },
   "outputs": [],
   "source": [
    "feature_100 = df.loc[:99,'feature_name']"
   ]
  },
  {
   "cell_type": "code",
   "execution_count": 169,
   "metadata": {},
   "outputs": [],
   "source": [
    "x_train_100 = x_train[feature_100]\n",
    "x_val_100 = x_val[feature_100]"
   ]
  },
  {
   "cell_type": "code",
   "execution_count": 170,
   "metadata": {},
   "outputs": [],
   "source": [
    "model_RF = RandomForestClassifier(random_state=1) \n",
    "params={'max_depth':range(1,20)}\n",
    "model3_2 = GridSearchCV(model_RF,\n",
    "                     params,\n",
    "                     cv=5,\n",
    "                     scoring='accuracy')"
   ]
  },
  {
   "cell_type": "code",
   "execution_count": 171,
   "metadata": {},
   "outputs": [
    {
     "data": {
      "text/html": [
       "<style>#sk-container-id-4 {\n",
       "  /* Definition of color scheme common for light and dark mode */\n",
       "  --sklearn-color-text: black;\n",
       "  --sklearn-color-line: gray;\n",
       "  /* Definition of color scheme for unfitted estimators */\n",
       "  --sklearn-color-unfitted-level-0: #fff5e6;\n",
       "  --sklearn-color-unfitted-level-1: #f6e4d2;\n",
       "  --sklearn-color-unfitted-level-2: #ffe0b3;\n",
       "  --sklearn-color-unfitted-level-3: chocolate;\n",
       "  /* Definition of color scheme for fitted estimators */\n",
       "  --sklearn-color-fitted-level-0: #f0f8ff;\n",
       "  --sklearn-color-fitted-level-1: #d4ebff;\n",
       "  --sklearn-color-fitted-level-2: #b3dbfd;\n",
       "  --sklearn-color-fitted-level-3: cornflowerblue;\n",
       "\n",
       "  /* Specific color for light theme */\n",
       "  --sklearn-color-text-on-default-background: var(--sg-text-color, var(--theme-code-foreground, var(--jp-content-font-color1, black)));\n",
       "  --sklearn-color-background: var(--sg-background-color, var(--theme-background, var(--jp-layout-color0, white)));\n",
       "  --sklearn-color-border-box: var(--sg-text-color, var(--theme-code-foreground, var(--jp-content-font-color1, black)));\n",
       "  --sklearn-color-icon: #696969;\n",
       "\n",
       "  @media (prefers-color-scheme: dark) {\n",
       "    /* Redefinition of color scheme for dark theme */\n",
       "    --sklearn-color-text-on-default-background: var(--sg-text-color, var(--theme-code-foreground, var(--jp-content-font-color1, white)));\n",
       "    --sklearn-color-background: var(--sg-background-color, var(--theme-background, var(--jp-layout-color0, #111)));\n",
       "    --sklearn-color-border-box: var(--sg-text-color, var(--theme-code-foreground, var(--jp-content-font-color1, white)));\n",
       "    --sklearn-color-icon: #878787;\n",
       "  }\n",
       "}\n",
       "\n",
       "#sk-container-id-4 {\n",
       "  color: var(--sklearn-color-text);\n",
       "}\n",
       "\n",
       "#sk-container-id-4 pre {\n",
       "  padding: 0;\n",
       "}\n",
       "\n",
       "#sk-container-id-4 input.sk-hidden--visually {\n",
       "  border: 0;\n",
       "  clip: rect(1px 1px 1px 1px);\n",
       "  clip: rect(1px, 1px, 1px, 1px);\n",
       "  height: 1px;\n",
       "  margin: -1px;\n",
       "  overflow: hidden;\n",
       "  padding: 0;\n",
       "  position: absolute;\n",
       "  width: 1px;\n",
       "}\n",
       "\n",
       "#sk-container-id-4 div.sk-dashed-wrapped {\n",
       "  border: 1px dashed var(--sklearn-color-line);\n",
       "  margin: 0 0.4em 0.5em 0.4em;\n",
       "  box-sizing: border-box;\n",
       "  padding-bottom: 0.4em;\n",
       "  background-color: var(--sklearn-color-background);\n",
       "}\n",
       "\n",
       "#sk-container-id-4 div.sk-container {\n",
       "  /* jupyter's `normalize.less` sets `[hidden] { display: none; }`\n",
       "     but bootstrap.min.css set `[hidden] { display: none !important; }`\n",
       "     so we also need the `!important` here to be able to override the\n",
       "     default hidden behavior on the sphinx rendered scikit-learn.org.\n",
       "     See: https://github.com/scikit-learn/scikit-learn/issues/21755 */\n",
       "  display: inline-block !important;\n",
       "  position: relative;\n",
       "}\n",
       "\n",
       "#sk-container-id-4 div.sk-text-repr-fallback {\n",
       "  display: none;\n",
       "}\n",
       "\n",
       "div.sk-parallel-item,\n",
       "div.sk-serial,\n",
       "div.sk-item {\n",
       "  /* draw centered vertical line to link estimators */\n",
       "  background-image: linear-gradient(var(--sklearn-color-text-on-default-background), var(--sklearn-color-text-on-default-background));\n",
       "  background-size: 2px 100%;\n",
       "  background-repeat: no-repeat;\n",
       "  background-position: center center;\n",
       "}\n",
       "\n",
       "/* Parallel-specific style estimator block */\n",
       "\n",
       "#sk-container-id-4 div.sk-parallel-item::after {\n",
       "  content: \"\";\n",
       "  width: 100%;\n",
       "  border-bottom: 2px solid var(--sklearn-color-text-on-default-background);\n",
       "  flex-grow: 1;\n",
       "}\n",
       "\n",
       "#sk-container-id-4 div.sk-parallel {\n",
       "  display: flex;\n",
       "  align-items: stretch;\n",
       "  justify-content: center;\n",
       "  background-color: var(--sklearn-color-background);\n",
       "  position: relative;\n",
       "}\n",
       "\n",
       "#sk-container-id-4 div.sk-parallel-item {\n",
       "  display: flex;\n",
       "  flex-direction: column;\n",
       "}\n",
       "\n",
       "#sk-container-id-4 div.sk-parallel-item:first-child::after {\n",
       "  align-self: flex-end;\n",
       "  width: 50%;\n",
       "}\n",
       "\n",
       "#sk-container-id-4 div.sk-parallel-item:last-child::after {\n",
       "  align-self: flex-start;\n",
       "  width: 50%;\n",
       "}\n",
       "\n",
       "#sk-container-id-4 div.sk-parallel-item:only-child::after {\n",
       "  width: 0;\n",
       "}\n",
       "\n",
       "/* Serial-specific style estimator block */\n",
       "\n",
       "#sk-container-id-4 div.sk-serial {\n",
       "  display: flex;\n",
       "  flex-direction: column;\n",
       "  align-items: center;\n",
       "  background-color: var(--sklearn-color-background);\n",
       "  padding-right: 1em;\n",
       "  padding-left: 1em;\n",
       "}\n",
       "\n",
       "\n",
       "/* Toggleable style: style used for estimator/Pipeline/ColumnTransformer box that is\n",
       "clickable and can be expanded/collapsed.\n",
       "- Pipeline and ColumnTransformer use this feature and define the default style\n",
       "- Estimators will overwrite some part of the style using the `sk-estimator` class\n",
       "*/\n",
       "\n",
       "/* Pipeline and ColumnTransformer style (default) */\n",
       "\n",
       "#sk-container-id-4 div.sk-toggleable {\n",
       "  /* Default theme specific background. It is overwritten whether we have a\n",
       "  specific estimator or a Pipeline/ColumnTransformer */\n",
       "  background-color: var(--sklearn-color-background);\n",
       "}\n",
       "\n",
       "/* Toggleable label */\n",
       "#sk-container-id-4 label.sk-toggleable__label {\n",
       "  cursor: pointer;\n",
       "  display: block;\n",
       "  width: 100%;\n",
       "  margin-bottom: 0;\n",
       "  padding: 0.5em;\n",
       "  box-sizing: border-box;\n",
       "  text-align: center;\n",
       "}\n",
       "\n",
       "#sk-container-id-4 label.sk-toggleable__label-arrow:before {\n",
       "  /* Arrow on the left of the label */\n",
       "  content: \"▸\";\n",
       "  float: left;\n",
       "  margin-right: 0.25em;\n",
       "  color: var(--sklearn-color-icon);\n",
       "}\n",
       "\n",
       "#sk-container-id-4 label.sk-toggleable__label-arrow:hover:before {\n",
       "  color: var(--sklearn-color-text);\n",
       "}\n",
       "\n",
       "/* Toggleable content - dropdown */\n",
       "\n",
       "#sk-container-id-4 div.sk-toggleable__content {\n",
       "  max-height: 0;\n",
       "  max-width: 0;\n",
       "  overflow: hidden;\n",
       "  text-align: left;\n",
       "  /* unfitted */\n",
       "  background-color: var(--sklearn-color-unfitted-level-0);\n",
       "}\n",
       "\n",
       "#sk-container-id-4 div.sk-toggleable__content.fitted {\n",
       "  /* fitted */\n",
       "  background-color: var(--sklearn-color-fitted-level-0);\n",
       "}\n",
       "\n",
       "#sk-container-id-4 div.sk-toggleable__content pre {\n",
       "  margin: 0.2em;\n",
       "  border-radius: 0.25em;\n",
       "  color: var(--sklearn-color-text);\n",
       "  /* unfitted */\n",
       "  background-color: var(--sklearn-color-unfitted-level-0);\n",
       "}\n",
       "\n",
       "#sk-container-id-4 div.sk-toggleable__content.fitted pre {\n",
       "  /* unfitted */\n",
       "  background-color: var(--sklearn-color-fitted-level-0);\n",
       "}\n",
       "\n",
       "#sk-container-id-4 input.sk-toggleable__control:checked~div.sk-toggleable__content {\n",
       "  /* Expand drop-down */\n",
       "  max-height: 200px;\n",
       "  max-width: 100%;\n",
       "  overflow: auto;\n",
       "}\n",
       "\n",
       "#sk-container-id-4 input.sk-toggleable__control:checked~label.sk-toggleable__label-arrow:before {\n",
       "  content: \"▾\";\n",
       "}\n",
       "\n",
       "/* Pipeline/ColumnTransformer-specific style */\n",
       "\n",
       "#sk-container-id-4 div.sk-label input.sk-toggleable__control:checked~label.sk-toggleable__label {\n",
       "  color: var(--sklearn-color-text);\n",
       "  background-color: var(--sklearn-color-unfitted-level-2);\n",
       "}\n",
       "\n",
       "#sk-container-id-4 div.sk-label.fitted input.sk-toggleable__control:checked~label.sk-toggleable__label {\n",
       "  background-color: var(--sklearn-color-fitted-level-2);\n",
       "}\n",
       "\n",
       "/* Estimator-specific style */\n",
       "\n",
       "/* Colorize estimator box */\n",
       "#sk-container-id-4 div.sk-estimator input.sk-toggleable__control:checked~label.sk-toggleable__label {\n",
       "  /* unfitted */\n",
       "  background-color: var(--sklearn-color-unfitted-level-2);\n",
       "}\n",
       "\n",
       "#sk-container-id-4 div.sk-estimator.fitted input.sk-toggleable__control:checked~label.sk-toggleable__label {\n",
       "  /* fitted */\n",
       "  background-color: var(--sklearn-color-fitted-level-2);\n",
       "}\n",
       "\n",
       "#sk-container-id-4 div.sk-label label.sk-toggleable__label,\n",
       "#sk-container-id-4 div.sk-label label {\n",
       "  /* The background is the default theme color */\n",
       "  color: var(--sklearn-color-text-on-default-background);\n",
       "}\n",
       "\n",
       "/* On hover, darken the color of the background */\n",
       "#sk-container-id-4 div.sk-label:hover label.sk-toggleable__label {\n",
       "  color: var(--sklearn-color-text);\n",
       "  background-color: var(--sklearn-color-unfitted-level-2);\n",
       "}\n",
       "\n",
       "/* Label box, darken color on hover, fitted */\n",
       "#sk-container-id-4 div.sk-label.fitted:hover label.sk-toggleable__label.fitted {\n",
       "  color: var(--sklearn-color-text);\n",
       "  background-color: var(--sklearn-color-fitted-level-2);\n",
       "}\n",
       "\n",
       "/* Estimator label */\n",
       "\n",
       "#sk-container-id-4 div.sk-label label {\n",
       "  font-family: monospace;\n",
       "  font-weight: bold;\n",
       "  display: inline-block;\n",
       "  line-height: 1.2em;\n",
       "}\n",
       "\n",
       "#sk-container-id-4 div.sk-label-container {\n",
       "  text-align: center;\n",
       "}\n",
       "\n",
       "/* Estimator-specific */\n",
       "#sk-container-id-4 div.sk-estimator {\n",
       "  font-family: monospace;\n",
       "  border: 1px dotted var(--sklearn-color-border-box);\n",
       "  border-radius: 0.25em;\n",
       "  box-sizing: border-box;\n",
       "  margin-bottom: 0.5em;\n",
       "  /* unfitted */\n",
       "  background-color: var(--sklearn-color-unfitted-level-0);\n",
       "}\n",
       "\n",
       "#sk-container-id-4 div.sk-estimator.fitted {\n",
       "  /* fitted */\n",
       "  background-color: var(--sklearn-color-fitted-level-0);\n",
       "}\n",
       "\n",
       "/* on hover */\n",
       "#sk-container-id-4 div.sk-estimator:hover {\n",
       "  /* unfitted */\n",
       "  background-color: var(--sklearn-color-unfitted-level-2);\n",
       "}\n",
       "\n",
       "#sk-container-id-4 div.sk-estimator.fitted:hover {\n",
       "  /* fitted */\n",
       "  background-color: var(--sklearn-color-fitted-level-2);\n",
       "}\n",
       "\n",
       "/* Specification for estimator info (e.g. \"i\" and \"?\") */\n",
       "\n",
       "/* Common style for \"i\" and \"?\" */\n",
       "\n",
       ".sk-estimator-doc-link,\n",
       "a:link.sk-estimator-doc-link,\n",
       "a:visited.sk-estimator-doc-link {\n",
       "  float: right;\n",
       "  font-size: smaller;\n",
       "  line-height: 1em;\n",
       "  font-family: monospace;\n",
       "  background-color: var(--sklearn-color-background);\n",
       "  border-radius: 1em;\n",
       "  height: 1em;\n",
       "  width: 1em;\n",
       "  text-decoration: none !important;\n",
       "  margin-left: 1ex;\n",
       "  /* unfitted */\n",
       "  border: var(--sklearn-color-unfitted-level-1) 1pt solid;\n",
       "  color: var(--sklearn-color-unfitted-level-1);\n",
       "}\n",
       "\n",
       ".sk-estimator-doc-link.fitted,\n",
       "a:link.sk-estimator-doc-link.fitted,\n",
       "a:visited.sk-estimator-doc-link.fitted {\n",
       "  /* fitted */\n",
       "  border: var(--sklearn-color-fitted-level-1) 1pt solid;\n",
       "  color: var(--sklearn-color-fitted-level-1);\n",
       "}\n",
       "\n",
       "/* On hover */\n",
       "div.sk-estimator:hover .sk-estimator-doc-link:hover,\n",
       ".sk-estimator-doc-link:hover,\n",
       "div.sk-label-container:hover .sk-estimator-doc-link:hover,\n",
       ".sk-estimator-doc-link:hover {\n",
       "  /* unfitted */\n",
       "  background-color: var(--sklearn-color-unfitted-level-3);\n",
       "  color: var(--sklearn-color-background);\n",
       "  text-decoration: none;\n",
       "}\n",
       "\n",
       "div.sk-estimator.fitted:hover .sk-estimator-doc-link.fitted:hover,\n",
       ".sk-estimator-doc-link.fitted:hover,\n",
       "div.sk-label-container:hover .sk-estimator-doc-link.fitted:hover,\n",
       ".sk-estimator-doc-link.fitted:hover {\n",
       "  /* fitted */\n",
       "  background-color: var(--sklearn-color-fitted-level-3);\n",
       "  color: var(--sklearn-color-background);\n",
       "  text-decoration: none;\n",
       "}\n",
       "\n",
       "/* Span, style for the box shown on hovering the info icon */\n",
       ".sk-estimator-doc-link span {\n",
       "  display: none;\n",
       "  z-index: 9999;\n",
       "  position: relative;\n",
       "  font-weight: normal;\n",
       "  right: .2ex;\n",
       "  padding: .5ex;\n",
       "  margin: .5ex;\n",
       "  width: min-content;\n",
       "  min-width: 20ex;\n",
       "  max-width: 50ex;\n",
       "  color: var(--sklearn-color-text);\n",
       "  box-shadow: 2pt 2pt 4pt #999;\n",
       "  /* unfitted */\n",
       "  background: var(--sklearn-color-unfitted-level-0);\n",
       "  border: .5pt solid var(--sklearn-color-unfitted-level-3);\n",
       "}\n",
       "\n",
       ".sk-estimator-doc-link.fitted span {\n",
       "  /* fitted */\n",
       "  background: var(--sklearn-color-fitted-level-0);\n",
       "  border: var(--sklearn-color-fitted-level-3);\n",
       "}\n",
       "\n",
       ".sk-estimator-doc-link:hover span {\n",
       "  display: block;\n",
       "}\n",
       "\n",
       "/* \"?\"-specific style due to the `<a>` HTML tag */\n",
       "\n",
       "#sk-container-id-4 a.estimator_doc_link {\n",
       "  float: right;\n",
       "  font-size: 1rem;\n",
       "  line-height: 1em;\n",
       "  font-family: monospace;\n",
       "  background-color: var(--sklearn-color-background);\n",
       "  border-radius: 1rem;\n",
       "  height: 1rem;\n",
       "  width: 1rem;\n",
       "  text-decoration: none;\n",
       "  /* unfitted */\n",
       "  color: var(--sklearn-color-unfitted-level-1);\n",
       "  border: var(--sklearn-color-unfitted-level-1) 1pt solid;\n",
       "}\n",
       "\n",
       "#sk-container-id-4 a.estimator_doc_link.fitted {\n",
       "  /* fitted */\n",
       "  border: var(--sklearn-color-fitted-level-1) 1pt solid;\n",
       "  color: var(--sklearn-color-fitted-level-1);\n",
       "}\n",
       "\n",
       "/* On hover */\n",
       "#sk-container-id-4 a.estimator_doc_link:hover {\n",
       "  /* unfitted */\n",
       "  background-color: var(--sklearn-color-unfitted-level-3);\n",
       "  color: var(--sklearn-color-background);\n",
       "  text-decoration: none;\n",
       "}\n",
       "\n",
       "#sk-container-id-4 a.estimator_doc_link.fitted:hover {\n",
       "  /* fitted */\n",
       "  background-color: var(--sklearn-color-fitted-level-3);\n",
       "}\n",
       "</style><div id=\"sk-container-id-4\" class=\"sk-top-container\"><div class=\"sk-text-repr-fallback\"><pre>GridSearchCV(cv=5, estimator=RandomForestClassifier(random_state=1),\n",
       "             param_grid={&#x27;max_depth&#x27;: range(1, 20)}, scoring=&#x27;accuracy&#x27;)</pre><b>In a Jupyter environment, please rerun this cell to show the HTML representation or trust the notebook. <br />On GitHub, the HTML representation is unable to render, please try loading this page with nbviewer.org.</b></div><div class=\"sk-container\" hidden><div class=\"sk-item sk-dashed-wrapped\"><div class=\"sk-label-container\"><div class=\"sk-label fitted sk-toggleable\"><input class=\"sk-toggleable__control sk-hidden--visually\" id=\"sk-estimator-id-10\" type=\"checkbox\" ><label for=\"sk-estimator-id-10\" class=\"sk-toggleable__label fitted sk-toggleable__label-arrow fitted\">&nbsp;&nbsp;GridSearchCV<a class=\"sk-estimator-doc-link fitted\" rel=\"noreferrer\" target=\"_blank\" href=\"https://scikit-learn.org/1.4/modules/generated/sklearn.model_selection.GridSearchCV.html\">?<span>Documentation for GridSearchCV</span></a><span class=\"sk-estimator-doc-link fitted\">i<span>Fitted</span></span></label><div class=\"sk-toggleable__content fitted\"><pre>GridSearchCV(cv=5, estimator=RandomForestClassifier(random_state=1),\n",
       "             param_grid={&#x27;max_depth&#x27;: range(1, 20)}, scoring=&#x27;accuracy&#x27;)</pre></div> </div></div><div class=\"sk-parallel\"><div class=\"sk-parallel-item\"><div class=\"sk-item\"><div class=\"sk-label-container\"><div class=\"sk-label fitted sk-toggleable\"><input class=\"sk-toggleable__control sk-hidden--visually\" id=\"sk-estimator-id-11\" type=\"checkbox\" ><label for=\"sk-estimator-id-11\" class=\"sk-toggleable__label fitted sk-toggleable__label-arrow fitted\">estimator: RandomForestClassifier</label><div class=\"sk-toggleable__content fitted\"><pre>RandomForestClassifier(random_state=1)</pre></div> </div></div><div class=\"sk-serial\"><div class=\"sk-item\"><div class=\"sk-estimator fitted sk-toggleable\"><input class=\"sk-toggleable__control sk-hidden--visually\" id=\"sk-estimator-id-12\" type=\"checkbox\" ><label for=\"sk-estimator-id-12\" class=\"sk-toggleable__label fitted sk-toggleable__label-arrow fitted\">&nbsp;RandomForestClassifier<a class=\"sk-estimator-doc-link fitted\" rel=\"noreferrer\" target=\"_blank\" href=\"https://scikit-learn.org/1.4/modules/generated/sklearn.ensemble.RandomForestClassifier.html\">?<span>Documentation for RandomForestClassifier</span></a></label><div class=\"sk-toggleable__content fitted\"><pre>RandomForestClassifier(random_state=1)</pre></div> </div></div></div></div></div></div></div></div></div>"
      ],
      "text/plain": [
       "GridSearchCV(cv=5, estimator=RandomForestClassifier(random_state=1),\n",
       "             param_grid={'max_depth': range(1, 20)}, scoring='accuracy')"
      ]
     },
     "execution_count": 171,
     "metadata": {},
     "output_type": "execute_result"
    }
   ],
   "source": [
    "model3_2.fit(x_train_100,y_train)"
   ]
  },
  {
   "cell_type": "code",
   "execution_count": 172,
   "metadata": {},
   "outputs": [
    {
     "name": "stdout",
     "output_type": "stream",
     "text": [
      "[[222   0   0   0   0   0]\n",
      " [  0 193   5   0   0   0]\n",
      " [  0   9 226   0   0   0]\n",
      " [  0   0   0 186   3   3]\n",
      " [  0   0   0   3 151   2]\n",
      " [  0   0   0   0   2 172]]\n",
      "                    precision    recall  f1-score   support\n",
      "\n",
      "            LAYING       1.00      1.00      1.00       222\n",
      "           SITTING       0.96      0.97      0.96       198\n",
      "          STANDING       0.98      0.96      0.97       235\n",
      "           WALKING       0.98      0.97      0.98       192\n",
      "WALKING_DOWNSTAIRS       0.97      0.97      0.97       156\n",
      "  WALKING_UPSTAIRS       0.97      0.99      0.98       174\n",
      "\n",
      "          accuracy                           0.98      1177\n",
      "         macro avg       0.98      0.98      0.98      1177\n",
      "      weighted avg       0.98      0.98      0.98      1177\n",
      "\n"
     ]
    }
   ],
   "source": [
    "y_pred3_2 = model3_2.predict(x_val_100)\n",
    "print(confusion_matrix(y_val,y_pred3_2))\n",
    "print(classification_report(y_val,y_pred3_2))"
   ]
  },
  {
   "cell_type": "markdown",
   "metadata": {
    "id": "fm3_E_WZCMNG"
   },
   "source": [
    "### (4) 알고리즘4 : "
   ]
  },
  {
   "cell_type": "code",
   "execution_count": 173,
   "metadata": {
    "id": "Oz8l40xxiLWP"
   },
   "outputs": [],
   "source": [
    "model4 = LogisticRegression()"
   ]
  },
  {
   "cell_type": "code",
   "execution_count": 174,
   "metadata": {
    "id": "fhpYGzZqiLQE"
   },
   "outputs": [
    {
     "name": "stderr",
     "output_type": "stream",
     "text": [
      "C:\\Users\\User\\anaconda3\\Lib\\site-packages\\sklearn\\linear_model\\_logistic.py:469: ConvergenceWarning: lbfgs failed to converge (status=1):\n",
      "STOP: TOTAL NO. of ITERATIONS REACHED LIMIT.\n",
      "\n",
      "Increase the number of iterations (max_iter) or scale the data as shown in:\n",
      "    https://scikit-learn.org/stable/modules/preprocessing.html\n",
      "Please also refer to the documentation for alternative solver options:\n",
      "    https://scikit-learn.org/stable/modules/linear_model.html#logistic-regression\n",
      "  n_iter_i = _check_optimize_result(\n"
     ]
    }
   ],
   "source": [
    "model4.fit(x_train,y_train)\n",
    "y_pred4 = model4.predict(x_val)"
   ]
  },
  {
   "cell_type": "code",
   "execution_count": 175,
   "metadata": {
    "id": "cg9WObNCiLNL"
   },
   "outputs": [
    {
     "name": "stdout",
     "output_type": "stream",
     "text": [
      "accuracy: 0.983857264231096\n",
      "[[222   0   0   0   0   0]\n",
      " [  0 191   7   0   0   0]\n",
      " [  0  10 225   0   0   0]\n",
      " [  0   0   0 192   0   0]\n",
      " [  0   0   0   2 154   0]\n",
      " [  0   0   0   0   0 174]]\n",
      "                    precision    recall  f1-score   support\n",
      "\n",
      "            LAYING       1.00      1.00      1.00       222\n",
      "           SITTING       0.95      0.96      0.96       198\n",
      "          STANDING       0.97      0.96      0.96       235\n",
      "           WALKING       0.99      1.00      0.99       192\n",
      "WALKING_DOWNSTAIRS       1.00      0.99      0.99       156\n",
      "  WALKING_UPSTAIRS       1.00      1.00      1.00       174\n",
      "\n",
      "          accuracy                           0.98      1177\n",
      "         macro avg       0.98      0.98      0.98      1177\n",
      "      weighted avg       0.98      0.98      0.98      1177\n",
      "\n"
     ]
    }
   ],
   "source": [
    "print('accuracy:',accuracy_score(y_val,y_pred4))\n",
    "print(confusion_matrix(y_val,y_pred4))\n",
    "print(classification_report(y_val,y_pred4))"
   ]
  },
  {
   "cell_type": "code",
   "execution_count": 176,
   "metadata": {
    "id": "t4etzWZKiLKY"
   },
   "outputs": [],
   "source": [
    "feature_100 = df.loc[:99,'feature_name']\n",
    "x_train_100 = x_train[feature_100]\n",
    "x_val_100 = x_val[feature_100]"
   ]
  },
  {
   "cell_type": "code",
   "execution_count": 177,
   "metadata": {
    "id": "rrrMbwJ6iLHh"
   },
   "outputs": [
    {
     "name": "stderr",
     "output_type": "stream",
     "text": [
      "C:\\Users\\User\\anaconda3\\Lib\\site-packages\\sklearn\\linear_model\\_logistic.py:469: ConvergenceWarning: lbfgs failed to converge (status=1):\n",
      "STOP: TOTAL NO. of ITERATIONS REACHED LIMIT.\n",
      "\n",
      "Increase the number of iterations (max_iter) or scale the data as shown in:\n",
      "    https://scikit-learn.org/stable/modules/preprocessing.html\n",
      "Please also refer to the documentation for alternative solver options:\n",
      "    https://scikit-learn.org/stable/modules/linear_model.html#logistic-regression\n",
      "  n_iter_i = _check_optimize_result(\n"
     ]
    }
   ],
   "source": [
    "model4_2 = LogisticRegression()\n",
    "model4_2.fit(x_train_100,y_train)\n",
    "y_pred4_2 = model4_2.predict(x_val_100)"
   ]
  },
  {
   "cell_type": "code",
   "execution_count": 178,
   "metadata": {},
   "outputs": [
    {
     "name": "stdout",
     "output_type": "stream",
     "text": [
      "accuracy: 0.9643160577740016\n",
      "[[222   0   0   0   0   0]\n",
      " [  0 180  18   0   0   0]\n",
      " [  0  17 218   0   0   0]\n",
      " [  0   0   0 188   0   4]\n",
      " [  0   0   0   1 153   2]\n",
      " [  0   0   0   0   0 174]]\n",
      "                    precision    recall  f1-score   support\n",
      "\n",
      "            LAYING       1.00      1.00      1.00       222\n",
      "           SITTING       0.91      0.91      0.91       198\n",
      "          STANDING       0.92      0.93      0.93       235\n",
      "           WALKING       0.99      0.98      0.99       192\n",
      "WALKING_DOWNSTAIRS       1.00      0.98      0.99       156\n",
      "  WALKING_UPSTAIRS       0.97      1.00      0.98       174\n",
      "\n",
      "          accuracy                           0.96      1177\n",
      "         macro avg       0.97      0.97      0.97      1177\n",
      "      weighted avg       0.96      0.96      0.96      1177\n",
      "\n"
     ]
    }
   ],
   "source": [
    "print('accuracy:',accuracy_score(y_val,y_pred4_2))\n",
    "print(confusion_matrix(y_val,y_pred4_2))\n",
    "print(classification_report(y_val,y_pred4_2))"
   ]
  },
  {
   "cell_type": "markdown",
   "metadata": {},
   "source": [
    "### Deep"
   ]
  },
  {
   "cell_type": "code",
   "execution_count": 179,
   "metadata": {},
   "outputs": [],
   "source": [
    "# 학습곡선 함수\n",
    "def dl_history_plot(history):\n",
    "    plt.figure(figsize=(10,6))\n",
    "    plt.plot(history['loss'], label='train_err')\n",
    "    plt.plot(history['val_loss'], label='val_err')\n",
    "\n",
    "    plt.ylabel('Loss')\n",
    "    plt.xlabel('Epoch')\n",
    "    plt.legend()\n",
    "    plt.grid()\n",
    "    plt.show()"
   ]
  },
  {
   "cell_type": "code",
   "execution_count": 189,
   "metadata": {},
   "outputs": [],
   "source": [
    "data['Activity_map'] = data['Activity'].map({'LAYING':0, 'SITTING':1, 'STANDING':2, 'WALKING':3, 'WALKING_DOWNSTAIRS':4, 'WALKING_UPSTAIRS':5 } ) "
   ]
  },
  {
   "cell_type": "code",
   "execution_count": 190,
   "metadata": {},
   "outputs": [
    {
     "data": {
      "text/html": [
       "<div>\n",
       "<style scoped>\n",
       "    .dataframe tbody tr th:only-of-type {\n",
       "        vertical-align: middle;\n",
       "    }\n",
       "\n",
       "    .dataframe tbody tr th {\n",
       "        vertical-align: top;\n",
       "    }\n",
       "\n",
       "    .dataframe thead th {\n",
       "        text-align: right;\n",
       "    }\n",
       "</style>\n",
       "<table border=\"1\" class=\"dataframe\">\n",
       "  <thead>\n",
       "    <tr style=\"text-align: right;\">\n",
       "      <th></th>\n",
       "      <th>tBodyAcc-mean()-X</th>\n",
       "      <th>tBodyAcc-mean()-Y</th>\n",
       "      <th>tBodyAcc-mean()-Z</th>\n",
       "      <th>tBodyAcc-std()-X</th>\n",
       "      <th>tBodyAcc-std()-Y</th>\n",
       "      <th>tBodyAcc-std()-Z</th>\n",
       "      <th>tBodyAcc-mad()-X</th>\n",
       "      <th>tBodyAcc-mad()-Y</th>\n",
       "      <th>tBodyAcc-mad()-Z</th>\n",
       "      <th>tBodyAcc-max()-X</th>\n",
       "      <th>...</th>\n",
       "      <th>fBodyBodyGyroJerkMag-kurtosis()</th>\n",
       "      <th>angle(tBodyAccMean,gravity)</th>\n",
       "      <th>angle(tBodyAccJerkMean),gravityMean)</th>\n",
       "      <th>angle(tBodyGyroMean,gravityMean)</th>\n",
       "      <th>angle(tBodyGyroJerkMean,gravityMean)</th>\n",
       "      <th>angle(X,gravityMean)</th>\n",
       "      <th>angle(Y,gravityMean)</th>\n",
       "      <th>angle(Z,gravityMean)</th>\n",
       "      <th>Activity</th>\n",
       "      <th>Activity_map</th>\n",
       "    </tr>\n",
       "  </thead>\n",
       "  <tbody>\n",
       "    <tr>\n",
       "      <th>0</th>\n",
       "      <td>0.288508</td>\n",
       "      <td>-0.009196</td>\n",
       "      <td>-0.103362</td>\n",
       "      <td>-0.988986</td>\n",
       "      <td>-0.962797</td>\n",
       "      <td>-0.967422</td>\n",
       "      <td>-0.989000</td>\n",
       "      <td>-0.962596</td>\n",
       "      <td>-0.965650</td>\n",
       "      <td>-0.929747</td>\n",
       "      <td>...</td>\n",
       "      <td>-0.816696</td>\n",
       "      <td>-0.042494</td>\n",
       "      <td>-0.044218</td>\n",
       "      <td>0.307873</td>\n",
       "      <td>0.072790</td>\n",
       "      <td>-0.601120</td>\n",
       "      <td>0.331298</td>\n",
       "      <td>0.165163</td>\n",
       "      <td>STANDING</td>\n",
       "      <td>2</td>\n",
       "    </tr>\n",
       "    <tr>\n",
       "      <th>1</th>\n",
       "      <td>0.265757</td>\n",
       "      <td>-0.016576</td>\n",
       "      <td>-0.098163</td>\n",
       "      <td>-0.989551</td>\n",
       "      <td>-0.994636</td>\n",
       "      <td>-0.987435</td>\n",
       "      <td>-0.990189</td>\n",
       "      <td>-0.993870</td>\n",
       "      <td>-0.987558</td>\n",
       "      <td>-0.937337</td>\n",
       "      <td>...</td>\n",
       "      <td>-0.693515</td>\n",
       "      <td>-0.062899</td>\n",
       "      <td>0.388459</td>\n",
       "      <td>-0.765014</td>\n",
       "      <td>0.771524</td>\n",
       "      <td>0.345205</td>\n",
       "      <td>-0.769186</td>\n",
       "      <td>-0.147944</td>\n",
       "      <td>LAYING</td>\n",
       "      <td>0</td>\n",
       "    </tr>\n",
       "    <tr>\n",
       "      <th>2</th>\n",
       "      <td>0.278709</td>\n",
       "      <td>-0.014511</td>\n",
       "      <td>-0.108717</td>\n",
       "      <td>-0.997720</td>\n",
       "      <td>-0.981088</td>\n",
       "      <td>-0.994008</td>\n",
       "      <td>-0.997934</td>\n",
       "      <td>-0.982187</td>\n",
       "      <td>-0.995017</td>\n",
       "      <td>-0.942584</td>\n",
       "      <td>...</td>\n",
       "      <td>-0.829311</td>\n",
       "      <td>0.000265</td>\n",
       "      <td>-0.525022</td>\n",
       "      <td>-0.891875</td>\n",
       "      <td>0.021528</td>\n",
       "      <td>-0.833564</td>\n",
       "      <td>0.202434</td>\n",
       "      <td>-0.032755</td>\n",
       "      <td>STANDING</td>\n",
       "      <td>2</td>\n",
       "    </tr>\n",
       "    <tr>\n",
       "      <th>3</th>\n",
       "      <td>0.289795</td>\n",
       "      <td>-0.035536</td>\n",
       "      <td>-0.150354</td>\n",
       "      <td>-0.231727</td>\n",
       "      <td>-0.006412</td>\n",
       "      <td>-0.338117</td>\n",
       "      <td>-0.273557</td>\n",
       "      <td>0.014245</td>\n",
       "      <td>-0.347916</td>\n",
       "      <td>0.008288</td>\n",
       "      <td>...</td>\n",
       "      <td>-0.408956</td>\n",
       "      <td>-0.255125</td>\n",
       "      <td>0.612804</td>\n",
       "      <td>0.747381</td>\n",
       "      <td>-0.072944</td>\n",
       "      <td>-0.695819</td>\n",
       "      <td>0.287154</td>\n",
       "      <td>0.111388</td>\n",
       "      <td>WALKING</td>\n",
       "      <td>3</td>\n",
       "    </tr>\n",
       "    <tr>\n",
       "      <th>4</th>\n",
       "      <td>0.394807</td>\n",
       "      <td>0.034098</td>\n",
       "      <td>0.091229</td>\n",
       "      <td>0.088489</td>\n",
       "      <td>-0.106636</td>\n",
       "      <td>-0.388502</td>\n",
       "      <td>-0.010469</td>\n",
       "      <td>-0.109680</td>\n",
       "      <td>-0.346372</td>\n",
       "      <td>0.584131</td>\n",
       "      <td>...</td>\n",
       "      <td>-0.563437</td>\n",
       "      <td>-0.044344</td>\n",
       "      <td>-0.845268</td>\n",
       "      <td>-0.974650</td>\n",
       "      <td>-0.887846</td>\n",
       "      <td>-0.705029</td>\n",
       "      <td>0.264952</td>\n",
       "      <td>0.137758</td>\n",
       "      <td>WALKING_DOWNSTAIRS</td>\n",
       "      <td>4</td>\n",
       "    </tr>\n",
       "  </tbody>\n",
       "</table>\n",
       "<p>5 rows × 563 columns</p>\n",
       "</div>"
      ],
      "text/plain": [
       "   tBodyAcc-mean()-X  tBodyAcc-mean()-Y  tBodyAcc-mean()-Z  tBodyAcc-std()-X  \\\n",
       "0           0.288508          -0.009196          -0.103362         -0.988986   \n",
       "1           0.265757          -0.016576          -0.098163         -0.989551   \n",
       "2           0.278709          -0.014511          -0.108717         -0.997720   \n",
       "3           0.289795          -0.035536          -0.150354         -0.231727   \n",
       "4           0.394807           0.034098           0.091229          0.088489   \n",
       "\n",
       "   tBodyAcc-std()-Y  tBodyAcc-std()-Z  tBodyAcc-mad()-X  tBodyAcc-mad()-Y  \\\n",
       "0         -0.962797         -0.967422         -0.989000         -0.962596   \n",
       "1         -0.994636         -0.987435         -0.990189         -0.993870   \n",
       "2         -0.981088         -0.994008         -0.997934         -0.982187   \n",
       "3         -0.006412         -0.338117         -0.273557          0.014245   \n",
       "4         -0.106636         -0.388502         -0.010469         -0.109680   \n",
       "\n",
       "   tBodyAcc-mad()-Z  tBodyAcc-max()-X  ...  fBodyBodyGyroJerkMag-kurtosis()  \\\n",
       "0         -0.965650         -0.929747  ...                        -0.816696   \n",
       "1         -0.987558         -0.937337  ...                        -0.693515   \n",
       "2         -0.995017         -0.942584  ...                        -0.829311   \n",
       "3         -0.347916          0.008288  ...                        -0.408956   \n",
       "4         -0.346372          0.584131  ...                        -0.563437   \n",
       "\n",
       "   angle(tBodyAccMean,gravity)  angle(tBodyAccJerkMean),gravityMean)  \\\n",
       "0                    -0.042494                             -0.044218   \n",
       "1                    -0.062899                              0.388459   \n",
       "2                     0.000265                             -0.525022   \n",
       "3                    -0.255125                              0.612804   \n",
       "4                    -0.044344                             -0.845268   \n",
       "\n",
       "   angle(tBodyGyroMean,gravityMean)  angle(tBodyGyroJerkMean,gravityMean)  \\\n",
       "0                          0.307873                              0.072790   \n",
       "1                         -0.765014                              0.771524   \n",
       "2                         -0.891875                              0.021528   \n",
       "3                          0.747381                             -0.072944   \n",
       "4                         -0.974650                             -0.887846   \n",
       "\n",
       "   angle(X,gravityMean)  angle(Y,gravityMean)  angle(Z,gravityMean)  \\\n",
       "0             -0.601120              0.331298              0.165163   \n",
       "1              0.345205             -0.769186             -0.147944   \n",
       "2             -0.833564              0.202434             -0.032755   \n",
       "3             -0.695819              0.287154              0.111388   \n",
       "4             -0.705029              0.264952              0.137758   \n",
       "\n",
       "             Activity  Activity_map  \n",
       "0            STANDING             2  \n",
       "1              LAYING             0  \n",
       "2            STANDING             2  \n",
       "3             WALKING             3  \n",
       "4  WALKING_DOWNSTAIRS             4  \n",
       "\n",
       "[5 rows x 563 columns]"
      ]
     },
     "execution_count": 190,
     "metadata": {},
     "output_type": "execute_result"
    }
   ],
   "source": [
    "data.head()"
   ]
  },
  {
   "cell_type": "code",
   "execution_count": 197,
   "metadata": {},
   "outputs": [],
   "source": [
    "x= data.drop(['Activity','Activity_map'],axis=1)\n",
    "y2= data.loc[:,'Activity_map']"
   ]
  },
  {
   "cell_type": "code",
   "execution_count": 198,
   "metadata": {},
   "outputs": [],
   "source": [
    "x_train,x_val,y_train2,y_val2 = train_test_split(x,y2,test_size=.3,random_state=1)"
   ]
  },
  {
   "cell_type": "code",
   "execution_count": 199,
   "metadata": {},
   "outputs": [],
   "source": [
    "scaler = MinMaxScaler()\n",
    "x_train = scaler.fit_transform(x_train)\n",
    "x_val = scaler.transform(x_val)"
   ]
  },
  {
   "cell_type": "code",
   "execution_count": 200,
   "metadata": {},
   "outputs": [
    {
     "data": {
      "text/plain": [
       "561"
      ]
     },
     "execution_count": 200,
     "metadata": {},
     "output_type": "execute_result"
    }
   ],
   "source": [
    "nfeatures = x_train.shape[1]\n",
    "nfeatures"
   ]
  },
  {
   "cell_type": "code",
   "execution_count": 201,
   "metadata": {},
   "outputs": [
    {
     "name": "stderr",
     "output_type": "stream",
     "text": [
      "C:\\Users\\User\\anaconda3\\Lib\\site-packages\\keras\\src\\layers\\core\\dense.py:88: UserWarning: Do not pass an `input_shape`/`input_dim` argument to a layer. When using Sequential models, prefer using an `Input(shape)` object as the first layer in the model instead.\n",
      "  super().__init__(activity_regularizer=activity_regularizer, **kwargs)\n"
     ]
    },
    {
     "data": {
      "text/html": [
       "<pre style=\"white-space:pre;overflow-x:auto;line-height:normal;font-family:Menlo,'DejaVu Sans Mono',consolas,'Courier New',monospace\"><span style=\"font-weight: bold\">Model: \"sequential\"</span>\n",
       "</pre>\n"
      ],
      "text/plain": [
       "\u001b[1mModel: \"sequential\"\u001b[0m\n"
      ]
     },
     "metadata": {},
     "output_type": "display_data"
    },
    {
     "data": {
      "text/html": [
       "<pre style=\"white-space:pre;overflow-x:auto;line-height:normal;font-family:Menlo,'DejaVu Sans Mono',consolas,'Courier New',monospace\">┏━━━━━━━━━━━━━━━━━━━━━━━━━━━━━━━━━━━━━━┳━━━━━━━━━━━━━━━━━━━━━━━━━━━━━┳━━━━━━━━━━━━━━━━━┓\n",
       "┃<span style=\"font-weight: bold\"> Layer (type)                         </span>┃<span style=\"font-weight: bold\"> Output Shape                </span>┃<span style=\"font-weight: bold\">         Param # </span>┃\n",
       "┡━━━━━━━━━━━━━━━━━━━━━━━━━━━━━━━━━━━━━━╇━━━━━━━━━━━━━━━━━━━━━━━━━━━━━╇━━━━━━━━━━━━━━━━━┩\n",
       "│ dense (<span style=\"color: #0087ff; text-decoration-color: #0087ff\">Dense</span>)                        │ (<span style=\"color: #00d7ff; text-decoration-color: #00d7ff\">None</span>, <span style=\"color: #00af00; text-decoration-color: #00af00\">288</span>)                 │         <span style=\"color: #00af00; text-decoration-color: #00af00\">161,856</span> │\n",
       "├──────────────────────────────────────┼─────────────────────────────┼─────────────────┤\n",
       "│ dense_1 (<span style=\"color: #0087ff; text-decoration-color: #0087ff\">Dense</span>)                      │ (<span style=\"color: #00d7ff; text-decoration-color: #00d7ff\">None</span>, <span style=\"color: #00af00; text-decoration-color: #00af00\">144</span>)                 │          <span style=\"color: #00af00; text-decoration-color: #00af00\">41,616</span> │\n",
       "├──────────────────────────────────────┼─────────────────────────────┼─────────────────┤\n",
       "│ dense_2 (<span style=\"color: #0087ff; text-decoration-color: #0087ff\">Dense</span>)                      │ (<span style=\"color: #00d7ff; text-decoration-color: #00d7ff\">None</span>, <span style=\"color: #00af00; text-decoration-color: #00af00\">72</span>)                  │          <span style=\"color: #00af00; text-decoration-color: #00af00\">10,440</span> │\n",
       "├──────────────────────────────────────┼─────────────────────────────┼─────────────────┤\n",
       "│ dense_3 (<span style=\"color: #0087ff; text-decoration-color: #0087ff\">Dense</span>)                      │ (<span style=\"color: #00d7ff; text-decoration-color: #00d7ff\">None</span>, <span style=\"color: #00af00; text-decoration-color: #00af00\">36</span>)                  │           <span style=\"color: #00af00; text-decoration-color: #00af00\">2,628</span> │\n",
       "├──────────────────────────────────────┼─────────────────────────────┼─────────────────┤\n",
       "│ dense_4 (<span style=\"color: #0087ff; text-decoration-color: #0087ff\">Dense</span>)                      │ (<span style=\"color: #00d7ff; text-decoration-color: #00d7ff\">None</span>, <span style=\"color: #00af00; text-decoration-color: #00af00\">6</span>)                   │             <span style=\"color: #00af00; text-decoration-color: #00af00\">222</span> │\n",
       "└──────────────────────────────────────┴─────────────────────────────┴─────────────────┘\n",
       "</pre>\n"
      ],
      "text/plain": [
       "┏━━━━━━━━━━━━━━━━━━━━━━━━━━━━━━━━━━━━━━┳━━━━━━━━━━━━━━━━━━━━━━━━━━━━━┳━━━━━━━━━━━━━━━━━┓\n",
       "┃\u001b[1m \u001b[0m\u001b[1mLayer (type)                        \u001b[0m\u001b[1m \u001b[0m┃\u001b[1m \u001b[0m\u001b[1mOutput Shape               \u001b[0m\u001b[1m \u001b[0m┃\u001b[1m \u001b[0m\u001b[1m        Param #\u001b[0m\u001b[1m \u001b[0m┃\n",
       "┡━━━━━━━━━━━━━━━━━━━━━━━━━━━━━━━━━━━━━━╇━━━━━━━━━━━━━━━━━━━━━━━━━━━━━╇━━━━━━━━━━━━━━━━━┩\n",
       "│ dense (\u001b[38;5;33mDense\u001b[0m)                        │ (\u001b[38;5;45mNone\u001b[0m, \u001b[38;5;34m288\u001b[0m)                 │         \u001b[38;5;34m161,856\u001b[0m │\n",
       "├──────────────────────────────────────┼─────────────────────────────┼─────────────────┤\n",
       "│ dense_1 (\u001b[38;5;33mDense\u001b[0m)                      │ (\u001b[38;5;45mNone\u001b[0m, \u001b[38;5;34m144\u001b[0m)                 │          \u001b[38;5;34m41,616\u001b[0m │\n",
       "├──────────────────────────────────────┼─────────────────────────────┼─────────────────┤\n",
       "│ dense_2 (\u001b[38;5;33mDense\u001b[0m)                      │ (\u001b[38;5;45mNone\u001b[0m, \u001b[38;5;34m72\u001b[0m)                  │          \u001b[38;5;34m10,440\u001b[0m │\n",
       "├──────────────────────────────────────┼─────────────────────────────┼─────────────────┤\n",
       "│ dense_3 (\u001b[38;5;33mDense\u001b[0m)                      │ (\u001b[38;5;45mNone\u001b[0m, \u001b[38;5;34m36\u001b[0m)                  │           \u001b[38;5;34m2,628\u001b[0m │\n",
       "├──────────────────────────────────────┼─────────────────────────────┼─────────────────┤\n",
       "│ dense_4 (\u001b[38;5;33mDense\u001b[0m)                      │ (\u001b[38;5;45mNone\u001b[0m, \u001b[38;5;34m6\u001b[0m)                   │             \u001b[38;5;34m222\u001b[0m │\n",
       "└──────────────────────────────────────┴─────────────────────────────┴─────────────────┘\n"
      ]
     },
     "metadata": {},
     "output_type": "display_data"
    },
    {
     "data": {
      "text/html": [
       "<pre style=\"white-space:pre;overflow-x:auto;line-height:normal;font-family:Menlo,'DejaVu Sans Mono',consolas,'Courier New',monospace\"><span style=\"font-weight: bold\"> Total params: </span><span style=\"color: #00af00; text-decoration-color: #00af00\">216,762</span> (846.73 KB)\n",
       "</pre>\n"
      ],
      "text/plain": [
       "\u001b[1m Total params: \u001b[0m\u001b[38;5;34m216,762\u001b[0m (846.73 KB)\n"
      ]
     },
     "metadata": {},
     "output_type": "display_data"
    },
    {
     "data": {
      "text/html": [
       "<pre style=\"white-space:pre;overflow-x:auto;line-height:normal;font-family:Menlo,'DejaVu Sans Mono',consolas,'Courier New',monospace\"><span style=\"font-weight: bold\"> Trainable params: </span><span style=\"color: #00af00; text-decoration-color: #00af00\">216,762</span> (846.73 KB)\n",
       "</pre>\n"
      ],
      "text/plain": [
       "\u001b[1m Trainable params: \u001b[0m\u001b[38;5;34m216,762\u001b[0m (846.73 KB)\n"
      ]
     },
     "metadata": {},
     "output_type": "display_data"
    },
    {
     "data": {
      "text/html": [
       "<pre style=\"white-space:pre;overflow-x:auto;line-height:normal;font-family:Menlo,'DejaVu Sans Mono',consolas,'Courier New',monospace\"><span style=\"font-weight: bold\"> Non-trainable params: </span><span style=\"color: #00af00; text-decoration-color: #00af00\">0</span> (0.00 B)\n",
       "</pre>\n"
      ],
      "text/plain": [
       "\u001b[1m Non-trainable params: \u001b[0m\u001b[38;5;34m0\u001b[0m (0.00 B)\n"
      ]
     },
     "metadata": {},
     "output_type": "display_data"
    }
   ],
   "source": [
    "clear_session()\n",
    "\n",
    "model5 = Sequential([Dense(288,input_shape=(nfeatures,),activation='relu'),\n",
    "                    Dense(144,activation='relu'),\n",
    "                    Dense(72,activation='relu'),\n",
    "                    Dense(36,activation='relu'),\n",
    "                    Dense(6,activation='softmax')])\n",
    "\n",
    "model5.summary()"
   ]
  },
  {
   "cell_type": "code",
   "execution_count": 202,
   "metadata": {
    "scrolled": true
   },
   "outputs": [
    {
     "name": "stdout",
     "output_type": "stream",
     "text": [
      "Epoch 1/50\n",
      "\u001b[1m103/103\u001b[0m \u001b[32m━━━━━━━━━━━━━━━━━━━━\u001b[0m\u001b[37m\u001b[0m \u001b[1m3s\u001b[0m 10ms/step - loss: 1.0158 - val_loss: 0.3422\n",
      "Epoch 2/50\n",
      "\u001b[1m103/103\u001b[0m \u001b[32m━━━━━━━━━━━━━━━━━━━━\u001b[0m\u001b[37m\u001b[0m \u001b[1m1s\u001b[0m 5ms/step - loss: 0.2948 - val_loss: 0.1710\n",
      "Epoch 3/50\n",
      "\u001b[1m103/103\u001b[0m \u001b[32m━━━━━━━━━━━━━━━━━━━━\u001b[0m\u001b[37m\u001b[0m \u001b[1m1s\u001b[0m 6ms/step - loss: 0.2167 - val_loss: 0.1389\n",
      "Epoch 4/50\n",
      "\u001b[1m103/103\u001b[0m \u001b[32m━━━━━━━━━━━━━━━━━━━━\u001b[0m\u001b[37m\u001b[0m \u001b[1m1s\u001b[0m 5ms/step - loss: 0.2171 - val_loss: 0.1063\n",
      "Epoch 5/50\n",
      "\u001b[1m103/103\u001b[0m \u001b[32m━━━━━━━━━━━━━━━━━━━━\u001b[0m\u001b[37m\u001b[0m \u001b[1m1s\u001b[0m 7ms/step - loss: 0.1480 - val_loss: 0.1002\n",
      "Epoch 6/50\n",
      "\u001b[1m103/103\u001b[0m \u001b[32m━━━━━━━━━━━━━━━━━━━━\u001b[0m\u001b[37m\u001b[0m \u001b[1m1s\u001b[0m 7ms/step - loss: 0.1231 - val_loss: 0.0880\n",
      "Epoch 7/50\n",
      "\u001b[1m103/103\u001b[0m \u001b[32m━━━━━━━━━━━━━━━━━━━━\u001b[0m\u001b[37m\u001b[0m \u001b[1m1s\u001b[0m 7ms/step - loss: 0.1172 - val_loss: 0.2545\n",
      "Epoch 8/50\n",
      "\u001b[1m103/103\u001b[0m \u001b[32m━━━━━━━━━━━━━━━━━━━━\u001b[0m\u001b[37m\u001b[0m \u001b[1m1s\u001b[0m 6ms/step - loss: 0.1278 - val_loss: 0.0770\n",
      "Epoch 9/50\n",
      "\u001b[1m103/103\u001b[0m \u001b[32m━━━━━━━━━━━━━━━━━━━━\u001b[0m\u001b[37m\u001b[0m \u001b[1m1s\u001b[0m 5ms/step - loss: 0.0872 - val_loss: 0.0887\n",
      "Epoch 10/50\n",
      "\u001b[1m103/103\u001b[0m \u001b[32m━━━━━━━━━━━━━━━━━━━━\u001b[0m\u001b[37m\u001b[0m \u001b[1m1s\u001b[0m 6ms/step - loss: 0.0944 - val_loss: 0.1657\n",
      "Epoch 11/50\n",
      "\u001b[1m103/103\u001b[0m \u001b[32m━━━━━━━━━━━━━━━━━━━━\u001b[0m\u001b[37m\u001b[0m \u001b[1m1s\u001b[0m 6ms/step - loss: 0.1001 - val_loss: 0.0637\n",
      "Epoch 12/50\n",
      "\u001b[1m103/103\u001b[0m \u001b[32m━━━━━━━━━━━━━━━━━━━━\u001b[0m\u001b[37m\u001b[0m \u001b[1m1s\u001b[0m 7ms/step - loss: 0.0556 - val_loss: 0.1631\n",
      "Epoch 13/50\n",
      "\u001b[1m103/103\u001b[0m \u001b[32m━━━━━━━━━━━━━━━━━━━━\u001b[0m\u001b[37m\u001b[0m \u001b[1m1s\u001b[0m 6ms/step - loss: 0.0630 - val_loss: 0.0667\n",
      "Epoch 14/50\n",
      "\u001b[1m103/103\u001b[0m \u001b[32m━━━━━━━━━━━━━━━━━━━━\u001b[0m\u001b[37m\u001b[0m \u001b[1m1s\u001b[0m 5ms/step - loss: 0.1840 - val_loss: 0.0835\n",
      "Epoch 15/50\n",
      "\u001b[1m103/103\u001b[0m \u001b[32m━━━━━━━━━━━━━━━━━━━━\u001b[0m\u001b[37m\u001b[0m \u001b[1m1s\u001b[0m 5ms/step - loss: 0.0703 - val_loss: 0.1125\n",
      "Epoch 16/50\n",
      "\u001b[1m103/103\u001b[0m \u001b[32m━━━━━━━━━━━━━━━━━━━━\u001b[0m\u001b[37m\u001b[0m \u001b[1m1s\u001b[0m 7ms/step - loss: 0.0655 - val_loss: 0.0780\n",
      "Epoch 17/50\n",
      "\u001b[1m103/103\u001b[0m \u001b[32m━━━━━━━━━━━━━━━━━━━━\u001b[0m\u001b[37m\u001b[0m \u001b[1m1s\u001b[0m 7ms/step - loss: 0.0491 - val_loss: 0.0429\n",
      "Epoch 18/50\n",
      "\u001b[1m103/103\u001b[0m \u001b[32m━━━━━━━━━━━━━━━━━━━━\u001b[0m\u001b[37m\u001b[0m \u001b[1m1s\u001b[0m 7ms/step - loss: 0.0613 - val_loss: 0.0987\n",
      "Epoch 19/50\n",
      "\u001b[1m103/103\u001b[0m \u001b[32m━━━━━━━━━━━━━━━━━━━━\u001b[0m\u001b[37m\u001b[0m \u001b[1m1s\u001b[0m 5ms/step - loss: 0.0731 - val_loss: 0.0478\n",
      "Epoch 20/50\n",
      "\u001b[1m103/103\u001b[0m \u001b[32m━━━━━━━━━━━━━━━━━━━━\u001b[0m\u001b[37m\u001b[0m \u001b[1m1s\u001b[0m 7ms/step - loss: 0.0470 - val_loss: 0.0665\n",
      "Epoch 21/50\n",
      "\u001b[1m103/103\u001b[0m \u001b[32m━━━━━━━━━━━━━━━━━━━━\u001b[0m\u001b[37m\u001b[0m \u001b[1m1s\u001b[0m 6ms/step - loss: 0.0672 - val_loss: 0.0759\n",
      "Epoch 22/50\n",
      "\u001b[1m103/103\u001b[0m \u001b[32m━━━━━━━━━━━━━━━━━━━━\u001b[0m\u001b[37m\u001b[0m \u001b[1m1s\u001b[0m 6ms/step - loss: 0.0744 - val_loss: 0.1219\n",
      "Epoch 23/50\n",
      "\u001b[1m103/103\u001b[0m \u001b[32m━━━━━━━━━━━━━━━━━━━━\u001b[0m\u001b[37m\u001b[0m \u001b[1m1s\u001b[0m 5ms/step - loss: 0.0789 - val_loss: 0.0510\n",
      "Epoch 24/50\n",
      "\u001b[1m103/103\u001b[0m \u001b[32m━━━━━━━━━━━━━━━━━━━━\u001b[0m\u001b[37m\u001b[0m \u001b[1m1s\u001b[0m 7ms/step - loss: 0.0478 - val_loss: 0.0460\n",
      "Epoch 25/50\n",
      "\u001b[1m103/103\u001b[0m \u001b[32m━━━━━━━━━━━━━━━━━━━━\u001b[0m\u001b[37m\u001b[0m \u001b[1m1s\u001b[0m 7ms/step - loss: 0.0738 - val_loss: 0.0906\n",
      "Epoch 26/50\n",
      "\u001b[1m103/103\u001b[0m \u001b[32m━━━━━━━━━━━━━━━━━━━━\u001b[0m\u001b[37m\u001b[0m \u001b[1m1s\u001b[0m 6ms/step - loss: 0.0568 - val_loss: 0.0730\n",
      "Epoch 27/50\n",
      "\u001b[1m103/103\u001b[0m \u001b[32m━━━━━━━━━━━━━━━━━━━━\u001b[0m\u001b[37m\u001b[0m \u001b[1m1s\u001b[0m 6ms/step - loss: 0.0437 - val_loss: 0.0534\n",
      "Epoch 28/50\n",
      "\u001b[1m103/103\u001b[0m \u001b[32m━━━━━━━━━━━━━━━━━━━━\u001b[0m\u001b[37m\u001b[0m \u001b[1m1s\u001b[0m 5ms/step - loss: 0.0308 - val_loss: 0.0473\n",
      "Epoch 29/50\n",
      "\u001b[1m103/103\u001b[0m \u001b[32m━━━━━━━━━━━━━━━━━━━━\u001b[0m\u001b[37m\u001b[0m \u001b[1m1s\u001b[0m 5ms/step - loss: 0.0212 - val_loss: 0.1304\n",
      "Epoch 30/50\n",
      "\u001b[1m103/103\u001b[0m \u001b[32m━━━━━━━━━━━━━━━━━━━━\u001b[0m\u001b[37m\u001b[0m \u001b[1m1s\u001b[0m 7ms/step - loss: 0.0597 - val_loss: 0.0337\n",
      "Epoch 31/50\n",
      "\u001b[1m103/103\u001b[0m \u001b[32m━━━━━━━━━━━━━━━━━━━━\u001b[0m\u001b[37m\u001b[0m \u001b[1m1s\u001b[0m 6ms/step - loss: 0.0374 - val_loss: 0.0374\n",
      "Epoch 32/50\n",
      "\u001b[1m103/103\u001b[0m \u001b[32m━━━━━━━━━━━━━━━━━━━━\u001b[0m\u001b[37m\u001b[0m \u001b[1m1s\u001b[0m 7ms/step - loss: 0.0358 - val_loss: 0.0460\n",
      "Epoch 33/50\n",
      "\u001b[1m103/103\u001b[0m \u001b[32m━━━━━━━━━━━━━━━━━━━━\u001b[0m\u001b[37m\u001b[0m \u001b[1m1s\u001b[0m 6ms/step - loss: 0.0259 - val_loss: 0.0441\n",
      "Epoch 34/50\n",
      "\u001b[1m103/103\u001b[0m \u001b[32m━━━━━━━━━━━━━━━━━━━━\u001b[0m\u001b[37m\u001b[0m \u001b[1m1s\u001b[0m 7ms/step - loss: 0.0344 - val_loss: 0.0701\n",
      "Epoch 35/50\n",
      "\u001b[1m103/103\u001b[0m \u001b[32m━━━━━━━━━━━━━━━━━━━━\u001b[0m\u001b[37m\u001b[0m \u001b[1m1s\u001b[0m 6ms/step - loss: 0.0560 - val_loss: 0.0699\n",
      "Epoch 36/50\n",
      "\u001b[1m103/103\u001b[0m \u001b[32m━━━━━━━━━━━━━━━━━━━━\u001b[0m\u001b[37m\u001b[0m \u001b[1m1s\u001b[0m 6ms/step - loss: 0.0751 - val_loss: 0.0633\n",
      "Epoch 37/50\n",
      "\u001b[1m103/103\u001b[0m \u001b[32m━━━━━━━━━━━━━━━━━━━━\u001b[0m\u001b[37m\u001b[0m \u001b[1m1s\u001b[0m 7ms/step - loss: 0.0494 - val_loss: 0.0729\n",
      "Epoch 38/50\n",
      "\u001b[1m103/103\u001b[0m \u001b[32m━━━━━━━━━━━━━━━━━━━━\u001b[0m\u001b[37m\u001b[0m \u001b[1m1s\u001b[0m 7ms/step - loss: 0.0511 - val_loss: 0.0354\n",
      "Epoch 39/50\n",
      "\u001b[1m103/103\u001b[0m \u001b[32m━━━━━━━━━━━━━━━━━━━━\u001b[0m\u001b[37m\u001b[0m \u001b[1m1s\u001b[0m 6ms/step - loss: 0.0386 - val_loss: 0.1091\n",
      "Epoch 40/50\n",
      "\u001b[1m103/103\u001b[0m \u001b[32m━━━━━━━━━━━━━━━━━━━━\u001b[0m\u001b[37m\u001b[0m \u001b[1m1s\u001b[0m 6ms/step - loss: 0.0660 - val_loss: 0.0359\n",
      "Epoch 41/50\n",
      "\u001b[1m103/103\u001b[0m \u001b[32m━━━━━━━━━━━━━━━━━━━━\u001b[0m\u001b[37m\u001b[0m \u001b[1m1s\u001b[0m 6ms/step - loss: 0.0397 - val_loss: 0.0368\n",
      "Epoch 42/50\n",
      "\u001b[1m103/103\u001b[0m \u001b[32m━━━━━━━━━━━━━━━━━━━━\u001b[0m\u001b[37m\u001b[0m \u001b[1m1s\u001b[0m 7ms/step - loss: 0.0342 - val_loss: 0.0421\n",
      "Epoch 43/50\n",
      "\u001b[1m103/103\u001b[0m \u001b[32m━━━━━━━━━━━━━━━━━━━━\u001b[0m\u001b[37m\u001b[0m \u001b[1m1s\u001b[0m 5ms/step - loss: 0.0491 - val_loss: 0.0568\n",
      "Epoch 44/50\n",
      "\u001b[1m103/103\u001b[0m \u001b[32m━━━━━━━━━━━━━━━━━━━━\u001b[0m\u001b[37m\u001b[0m \u001b[1m1s\u001b[0m 6ms/step - loss: 0.0290 - val_loss: 0.0399\n",
      "Epoch 45/50\n",
      "\u001b[1m103/103\u001b[0m \u001b[32m━━━━━━━━━━━━━━━━━━━━\u001b[0m\u001b[37m\u001b[0m \u001b[1m1s\u001b[0m 7ms/step - loss: 0.0282 - val_loss: 0.0366\n",
      "Epoch 46/50\n",
      "\u001b[1m103/103\u001b[0m \u001b[32m━━━━━━━━━━━━━━━━━━━━\u001b[0m\u001b[37m\u001b[0m \u001b[1m1s\u001b[0m 5ms/step - loss: 0.0275 - val_loss: 0.0487\n",
      "Epoch 47/50\n",
      "\u001b[1m103/103\u001b[0m \u001b[32m━━━━━━━━━━━━━━━━━━━━\u001b[0m\u001b[37m\u001b[0m \u001b[1m1s\u001b[0m 5ms/step - loss: 0.0408 - val_loss: 0.1139\n",
      "Epoch 48/50\n",
      "\u001b[1m103/103\u001b[0m \u001b[32m━━━━━━━━━━━━━━━━━━━━\u001b[0m\u001b[37m\u001b[0m \u001b[1m1s\u001b[0m 7ms/step - loss: 0.0372 - val_loss: 0.0382\n",
      "Epoch 49/50\n",
      "\u001b[1m103/103\u001b[0m \u001b[32m━━━━━━━━━━━━━━━━━━━━\u001b[0m\u001b[37m\u001b[0m \u001b[1m1s\u001b[0m 7ms/step - loss: 0.0266 - val_loss: 0.0348\n",
      "Epoch 50/50\n",
      "\u001b[1m103/103\u001b[0m \u001b[32m━━━━━━━━━━━━━━━━━━━━\u001b[0m\u001b[37m\u001b[0m \u001b[1m1s\u001b[0m 6ms/step - loss: 0.0224 - val_loss: 0.0367\n"
     ]
    }
   ],
   "source": [
    "model5.compile(optimizer=Adam(learning_rate=0.001), loss='sparse_categorical_crossentropy')\n",
    "\n",
    "history = model5.fit(x_train, y_train2, epochs = 50, validation_split=0.2).history"
   ]
  },
  {
   "cell_type": "code",
   "execution_count": 203,
   "metadata": {},
   "outputs": [
    {
     "data": {
      "image/png": "[encoded data removed]",
      "text/plain": [
       "<Figure size 1000x600 with 1 Axes>"
      ]
     },
     "metadata": {},
     "output_type": "display_data"
    }
   ],
   "source": [
    "dl_history_plot(history)"
   ]
  },
  {
   "cell_type": "code",
   "execution_count": 204,
   "metadata": {},
   "outputs": [
    {
     "name": "stdout",
     "output_type": "stream",
     "text": [
      "\u001b[1m56/56\u001b[0m \u001b[32m━━━━━━━━━━━━━━━━━━━━\u001b[0m\u001b[37m\u001b[0m \u001b[1m0s\u001b[0m 4ms/step\n"
     ]
    }
   ],
   "source": [
    "y_pred5 = model5.predict(x_val)"
   ]
  },
  {
   "cell_type": "code",
   "execution_count": 205,
   "metadata": {},
   "outputs": [],
   "source": [
    "y_pred5 = np.argmax(y_pred5,axis=1)"
   ]
  },
  {
   "cell_type": "code",
   "execution_count": 206,
   "metadata": {},
   "outputs": [
    {
     "name": "stdout",
     "output_type": "stream",
     "text": [
      "0.9835694050991501\n",
      "[[331   0   0   0   0   0]\n",
      " [  1 272  19   0   0   0]\n",
      " [  0   6 325   0   0   0]\n",
      " [  0   0   0 296   1   0]\n",
      " [  0   0   0   0 237   2]\n",
      " [  0   0   0   0   0 275]]\n",
      "              precision    recall  f1-score   support\n",
      "\n",
      "           0       1.00      1.00      1.00       331\n",
      "           1       0.98      0.93      0.95       292\n",
      "           2       0.94      0.98      0.96       331\n",
      "           3       1.00      1.00      1.00       297\n",
      "           4       1.00      0.99      0.99       239\n",
      "           5       0.99      1.00      1.00       275\n",
      "\n",
      "    accuracy                           0.98      1765\n",
      "   macro avg       0.98      0.98      0.98      1765\n",
      "weighted avg       0.98      0.98      0.98      1765\n",
      "\n"
     ]
    }
   ],
   "source": [
    "print(accuracy_score(y_val2, y_pred5))\n",
    "print(confusion_matrix(y_val2, y_pred5))\n",
    "print(classification_report(y_val2, y_pred5))"
   ]
  },
  {
   "cell_type": "code",
   "execution_count": 208,
   "metadata": {},
   "outputs": [
    {
     "data": {
      "text/html": [
       "<div>\n",
       "<style scoped>\n",
       "    .dataframe tbody tr th:only-of-type {\n",
       "        vertical-align: middle;\n",
       "    }\n",
       "\n",
       "    .dataframe tbody tr th {\n",
       "        vertical-align: top;\n",
       "    }\n",
       "\n",
       "    .dataframe thead th {\n",
       "        text-align: right;\n",
       "    }\n",
       "</style>\n",
       "<table border=\"1\" class=\"dataframe\">\n",
       "  <thead>\n",
       "    <tr style=\"text-align: right;\">\n",
       "      <th></th>\n",
       "      <th>model_no</th>\n",
       "      <th>algorithm</th>\n",
       "      <th>accuracy</th>\n",
       "      <th>f1_0</th>\n",
       "      <th>f1_1</th>\n",
       "      <th>f1_2</th>\n",
       "      <th>f1_3</th>\n",
       "      <th>f1_4</th>\n",
       "      <th>f1_5</th>\n",
       "    </tr>\n",
       "  </thead>\n",
       "  <tbody>\n",
       "    <tr>\n",
       "      <th>0</th>\n",
       "      <td>model1</td>\n",
       "      <td>rf</td>\n",
       "      <td>0.977060</td>\n",
       "      <td>0.995475</td>\n",
       "      <td>0.964646</td>\n",
       "      <td>0.970213</td>\n",
       "      <td>0.978947</td>\n",
       "      <td>0.974522</td>\n",
       "      <td>0.977273</td>\n",
       "    </tr>\n",
       "    <tr>\n",
       "      <th>1</th>\n",
       "      <td>model1_2</td>\n",
       "      <td>rf</td>\n",
       "      <td>0.977060</td>\n",
       "      <td>1.000000</td>\n",
       "      <td>0.965174</td>\n",
       "      <td>0.969828</td>\n",
       "      <td>0.973958</td>\n",
       "      <td>0.967532</td>\n",
       "      <td>0.982955</td>\n",
       "    </tr>\n",
       "    <tr>\n",
       "      <th>2</th>\n",
       "      <td>model2</td>\n",
       "      <td>knn</td>\n",
       "      <td>0.957519</td>\n",
       "      <td>0.993228</td>\n",
       "      <td>0.881266</td>\n",
       "      <td>0.911704</td>\n",
       "      <td>0.994819</td>\n",
       "      <td>0.987097</td>\n",
       "      <td>0.991404</td>\n",
       "    </tr>\n",
       "    <tr>\n",
       "      <th>3</th>\n",
       "      <td>model3</td>\n",
       "      <td>rf_g</td>\n",
       "      <td>0.978760</td>\n",
       "      <td>0.995475</td>\n",
       "      <td>0.967254</td>\n",
       "      <td>0.972281</td>\n",
       "      <td>0.981627</td>\n",
       "      <td>0.980769</td>\n",
       "      <td>0.974504</td>\n",
       "    </tr>\n",
       "    <tr>\n",
       "      <th>4</th>\n",
       "      <td>model3_2</td>\n",
       "      <td>rf_g</td>\n",
       "      <td>0.977060</td>\n",
       "      <td>1.000000</td>\n",
       "      <td>0.965000</td>\n",
       "      <td>0.969957</td>\n",
       "      <td>0.976378</td>\n",
       "      <td>0.967949</td>\n",
       "      <td>0.980057</td>\n",
       "    </tr>\n",
       "    <tr>\n",
       "      <th>5</th>\n",
       "      <td>model4</td>\n",
       "      <td>lg</td>\n",
       "      <td>0.983857</td>\n",
       "      <td>1.000000</td>\n",
       "      <td>0.957393</td>\n",
       "      <td>0.963597</td>\n",
       "      <td>0.994819</td>\n",
       "      <td>0.993548</td>\n",
       "      <td>1.000000</td>\n",
       "    </tr>\n",
       "    <tr>\n",
       "      <th>6</th>\n",
       "      <td>model4_2</td>\n",
       "      <td>lg</td>\n",
       "      <td>0.964316</td>\n",
       "      <td>1.000000</td>\n",
       "      <td>0.911392</td>\n",
       "      <td>0.925690</td>\n",
       "      <td>0.986877</td>\n",
       "      <td>0.990291</td>\n",
       "      <td>0.983051</td>\n",
       "    </tr>\n",
       "    <tr>\n",
       "      <th>7</th>\n",
       "      <td>model5</td>\n",
       "      <td>dl</td>\n",
       "      <td>0.983569</td>\n",
       "      <td>0.998492</td>\n",
       "      <td>0.954386</td>\n",
       "      <td>0.962963</td>\n",
       "      <td>0.998314</td>\n",
       "      <td>0.993711</td>\n",
       "      <td>0.996377</td>\n",
       "    </tr>\n",
       "  </tbody>\n",
       "</table>\n",
       "</div>"
      ],
      "text/plain": [
       "   model_no algorithm  accuracy      f1_0      f1_1      f1_2      f1_3  \\\n",
       "0    model1        rf  0.977060  0.995475  0.964646  0.970213  0.978947   \n",
       "1  model1_2        rf  0.977060  1.000000  0.965174  0.969828  0.973958   \n",
       "2    model2       knn  0.957519  0.993228  0.881266  0.911704  0.994819   \n",
       "3    model3      rf_g  0.978760  0.995475  0.967254  0.972281  0.981627   \n",
       "4  model3_2      rf_g  0.977060  1.000000  0.965000  0.969957  0.976378   \n",
       "5    model4        lg  0.983857  1.000000  0.957393  0.963597  0.994819   \n",
       "6  model4_2        lg  0.964316  1.000000  0.911392  0.925690  0.986877   \n",
       "7    model5        dl  0.983569  0.998492  0.954386  0.962963  0.998314   \n",
       "\n",
       "       f1_4      f1_5  \n",
       "0  0.974522  0.977273  \n",
       "1  0.967532  0.982955  \n",
       "2  0.987097  0.991404  \n",
       "3  0.980769  0.974504  \n",
       "4  0.967949  0.980057  \n",
       "5  0.993548  1.000000  \n",
       "6  0.990291  0.983051  \n",
       "7  0.993711  0.996377  "
      ]
     },
     "execution_count": 208,
     "metadata": {},
     "output_type": "execute_result"
    }
   ],
   "source": [
    "model_no = ['model1','model1_2', 'model2',\\\n",
    "            'model3', 'model3_2', 'model4', 'model4_2','model5']\n",
    "algorithm = ['rf','rf', 'knn', 'rf_g', 'rf_g', 'lg', 'lg', 'dl']\n",
    "pred = [y_pred1, y_pred1_2, y_pred2, y_pred3, y_pred3_2, y_pred4, y_pred4_2, y_pred5]\n",
    "y_vals = [y_val, y_val, y_val_s, y_val, y_val, y_val, y_val, y_val2]\n",
    "\n",
    "result = pd.DataFrame(columns=['model_no', 'algorithm', 'accuracy', 'f1_0', 'f1_1', 'f1_2', 'f1_3', 'f1_4', 'f1_5'])\n",
    "\n",
    "for i in range(len(model_no)):\n",
    "    f1 = list(f1_score(y_vals[i], pred[i], average=None))\n",
    "    acc = accuracy_score(y_vals[i], pred[i])\n",
    "    row = [model_no[i], algorithm[i], acc] + f1\n",
    "    result.loc[i] = row\n",
    "\n",
    "result"
   ]
  },
  {
   "cell_type": "code",
   "execution_count": null,
   "metadata": {},
   "outputs": [],
   "source": [
    "\"\"\"\n",
    "모델로는 로지스틱 모델이 가장 정확도가 크게 나온것으로 보임\n",
    "\"\"\""
   ]
  },
  {
   "cell_type": "code",
   "execution_count": null,
   "metadata": {},
   "outputs": [],
   "source": [
    "\"\"\"\n",
    "활동 할때 변수 중요도가 가장 큰것 탑 5\n",
    "1. angle(X,gravityMean) -> 이는 x축 방향 - 중력가속도 평균 벡터 사이의 각도인데 가장 큰 이유는\n",
    "활동에 따라 몸의 움직임과 자세는 차이가 발생하며 , 각 활동에 따라 센서가 측정하는 가속도 데이터에\n",
    "영향을 미친다\n",
    "이러한 이유로 몸의 움직임에 따라 센서가 측정한 가속도 패턴이 달라지게 되며 영향이 가장 클수밖에 없다.\n",
    "누워있는 경우 중력은 X축 방향과 일치해 중력이 거의 측정 되지 않거나 매우 작게 측정 될것,\n",
    "#그러므로 x축 방향의 중력과 평균 중력 벡터 사이 각도 값은 크게 나옴\n",
    "\n",
    "2. tGravityAcc-min()-X -> 이는 X축 방향 중력가속도 최소값 - 자세 변화에 따라 중력의 영향이 \n",
    "다르며 활동 중에는 x축 방향의 중력이 다양한 값을 가질 수 있고, 이에 따라 중력 가속도 최소값도 \n",
    "달라짐 . 그러므로 영향이 큼\n",
    "누워있을때는 중력이 센서의 x축 방향과 일치해 중력이 거의 측정 되지 않아 값이 작게 나옴\n",
    "\n",
    "3. tGravityAcc-energy()-X -> 이는 센서가 측정한 가속도 데이터의 움직을 나타내고 이 값은 \n",
    "x축 방향의 중력 가속도 변화량 나타냄 -> 주로 동적인 활동 구분하는데 중요\n",
    "\n",
    "4. tGravityAcc-mean()-X -> 이는 x축 방향 중력가속도 평균을 나타내고 위의 이유와 같이\n",
    "활동을 할때마다 중력의 영향을 받으므로 중요도 크게 나타남\n",
    "\n",
    "5. tGravityAcc-min()-Y -> 이는 y축 방향 중력 가속도 최소값을 나타내며 몸의 자세나 활동에\n",
    "따라 중력의 영향을 받음 주로 정적인 활동 구분할때 좋음.\n",
    "\"\"\""
   ]
  }
 ],
 "metadata": {
  "colab": {
   "provenance": [],
   "toc_visible": true
  },
  "kernelspec": {
   "display_name": "Python 3 (ipykernel)",
   "language": "python",
   "name": "python3"
  },
  "language_info": {
   "codemirror_mode": {
    "name": "ipython",
    "version": 3
   },
   "file_extension": ".py",
   "mimetype": "text/x-python",
   "name": "python",
   "nbconvert_exporter": "python",
   "pygments_lexer": "ipython3",
   "version": "3.11.5"
  }
 },
 "nbformat": 4,
 "nbformat_minor": 1
}
